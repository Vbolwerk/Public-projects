{
 "cells": [
  {
   "cell_type": "markdown",
   "metadata": {
    "focus": false,
    "id": "69b9a648-bcc7-490d-9f9b-ea244d156bd6"
   },
   "source": [
    "# Web Scraping for Indeed.com & Predicting Salaries"
   ]
  },
  {
   "cell_type": "markdown",
   "metadata": {
    "focus": false,
    "id": "34681254-c802-462f-829d-8894d0772d08"
   },
   "source": [
    "In this project, I scrape salaries from Indeed.com, and use the features from Indeed.com to be able to predict future salaries. \n",
    "\n",
    "I am going to collect salary information on data science jobs in a variety of markets. Then using the location, title and summary of the job I will attempt to predict the salary of the job. For job posting sites, this would be extraordinarily useful. While most listings do not come with salary information, being to able extrapolate or predict the expected salaries from other listings can help guide negotiations.\n",
    "\n",
    "Normally, we could use regression for this task; however, we will convert this problem into classification and use Logistic Regression. While more precision may be better, there is a fair amount of natural variance in job salaries - predicting a range be may be useful.\n",
    "\n",
    "Therefore, the first part of the assignment will be focused on scraping Indeed.com. In the second, we'll focus on using listings with salary information to build a model and predict additional salaries."
   ]
  },
  {
   "cell_type": "markdown",
   "metadata": {
    "focus": false,
    "id": "a948d79c-5527-4c0d-ab23-f5d43ce72056"
   },
   "source": [
    "### Scraping job listings from Indeed.com"
   ]
  },
  {
   "cell_type": "markdown",
   "metadata": {
    "focus": true,
    "id": "7203e0c9-e437-4802-a6ad-7dc464f94436"
   },
   "source": [
    "We will be scraping job listings from Indeed.com using BeautifulSoup. Luckily, Indeed.com is a simple text page where we can easily find relevant entries. "
   ]
  },
  {
   "cell_type": "markdown",
   "metadata": {
    "focus": false,
    "id": "9732c901-ae26-4160-8376-42e22dd327df"
   },
   "source": [
    "The URL here has many query parameters\n",
    "\n",
    "- `q` for the job search\n",
    "- This is followed by \"+20,000\" to return results with salaries (or expected salaries >$20,000)\n",
    "- `l` for a location \n",
    "- `start` for what result number to start on"
   ]
  },
  {
   "cell_type": "markdown",
   "metadata": {},
   "source": [
    "## Problem statement\n",
    "\n",
    "The aim of this project will be to determine what effects salary for Data Science jobs in the United States. The salary data that is found can be combined with data on location and job titles. It would be interesting to see how location and certain words in a job title (such as senior or manager) affects the probability that one gets a salary above the median for data scientists."
   ]
  },
  {
   "cell_type": "code",
   "execution_count": 1,
   "metadata": {
    "collapsed": true
   },
   "outputs": [],
   "source": [
    "import numpy as np\n",
    "import pandas as pd\n",
    "import urllib2"
   ]
  },
  {
   "cell_type": "code",
   "execution_count": 2,
   "metadata": {
    "collapsed": false,
    "focus": false,
    "id": "e915023e-6b0d-4982-af2a-b1e0355f4927"
   },
   "outputs": [],
   "source": [
    "URL = \"http://www.indeed.com/jobs?q=data+scientist+%2420%2C000&l=New+York&start=10\""
   ]
  },
  {
   "cell_type": "code",
   "execution_count": 3,
   "metadata": {
    "collapsed": true,
    "focus": false,
    "id": "2efefc73-064a-482d-b3b5-ddf5508cb4ec"
   },
   "outputs": [],
   "source": [
    "import requests\n",
    "import bs4\n",
    "from bs4 import BeautifulSoup"
   ]
  },
  {
   "cell_type": "code",
   "execution_count": 4,
   "metadata": {
    "collapsed": false,
    "focus": false,
    "id": "2c6752c4-7704-4c94-8bc0-6f13d2d0d570"
   },
   "outputs": [],
   "source": [
    "response = requests.get(URL)"
   ]
  },
  {
   "cell_type": "code",
   "execution_count": 6,
   "metadata": {
    "collapsed": false
   },
   "outputs": [],
   "source": [
    "page = response.text"
   ]
  },
  {
   "cell_type": "code",
   "execution_count": 7,
   "metadata": {
    "collapsed": false
   },
   "outputs": [],
   "source": [
    "soup = BeautifulSoup(page, \"lxml\")"
   ]
  },
  {
   "cell_type": "markdown",
   "metadata": {
    "focus": false,
    "id": "bb0b866a-26a7-45e9-8084-5a0f90eb4b3e"
   },
   "source": [
    "Let's look at one result more closely. A single `result` looks like\n",
    "\n",
    "```\n",
    "<div class=\" row result\" data-jk=\"2480d203f7e97210\" data-tn-component=\"organicJob\" id=\"p_2480d203f7e97210\" itemscope=\"\" itemtype=\"http://schema.org/JobPosting\">\n",
    "<h2 class=\"jobtitle\" id=\"jl_2480d203f7e97210\">\n",
    "<a class=\"turnstileLink\" data-tn-element=\"jobTitle\" onmousedown=\"return rclk(this,jobmap[0],1);\" rel=\"nofollow\" target=\"_blank\" title=\"AVP/Quantitative Analyst\">AVP/Quantitative Analyst</a>\n",
    "</h2>\n",
    "<span class=\"company\" itemprop=\"hiringOrganization\" itemtype=\"http://schema.org/Organization\">\n",
    "<span itemprop=\"name\">\n",
    "<a href=\"/cmp/Alliancebernstein?from=SERP&amp;campaignid=serp-linkcompanyname&amp;fromjk=2480d203f7e97210&amp;jcid=b374f2a780e04789\" target=\"_blank\">\n",
    "    AllianceBernstein</a></span>\n",
    "</span>\n",
    "<tr>\n",
    "<td class=\"snip\">\n",
    "<nobr>$117,500 - $127,500 a year</nobr>\n",
    "<div>\n",
    "<span class=\"summary\" itemprop=\"description\">\n",
    "C onduct quantitative and statistical research as well as portfolio management for various investment portfolios. Collaborate with Quantitative Analysts and</span>\n",
    "</div>\n",
    "</div>\n",
    "</td>\n",
    "</tr>\n",
    "</table>\n",
    "</div>\n",
    "```\n",
    "\n",
    "We can see that there is some structure to the above:\n",
    "- The salary is available in a `nobr` element inside of a `td` element with `class='snip`.\n",
    "- The title of a job is in a link with class set to `jobtitle` and a `data-tn-element=\"jobTitle`.  \n",
    "- The location is set in a `span` with `class='location'`. \n",
    "- The company is set in a `span` with `class='company'`. "
   ]
  },
  {
   "cell_type": "code",
   "execution_count": 9,
   "metadata": {
    "collapsed": false,
    "focus": false,
    "id": "a1af53c9-9090-494f-b82e-cadb60a54909"
   },
   "outputs": [
    {
     "name": "stdout",
     "output_type": "stream",
     "text": [
      "<class 'bs4.element.Tag'>\n"
     ]
    }
   ],
   "source": [
    "body = soup.find('body')\n",
    "print type(body)\n",
    "\n",
    "results = body.find_all('div', 'row','result' )"
   ]
  },
  {
   "cell_type": "code",
   "execution_count": 10,
   "metadata": {
    "collapsed": false
   },
   "outputs": [],
   "source": [
    "job =[]\n",
    "company=[]\n",
    "location=[]\n",
    "salary=[]\n",
    "\n",
    "for row in results:\n",
    "    try:\n",
    "        job.append(row.a.getText())\n",
    "    except:\n",
    "        job.append(np.nan)\n",
    "    try:\n",
    "        company.append(row.span.getText().strip())\n",
    "    except:\n",
    "        company.append(np.nan)\n",
    "    try:\n",
    "        location += [r.getText().strip() for r in row('span', class_='location')]\n",
    "    except:\n",
    "        location += [np.nan]\n",
    "    try:\n",
    "        salary.append(row.nobr.getText())\n",
    "    except:\n",
    "        salary.append(np.nan)"
   ]
  },
  {
   "cell_type": "code",
   "execution_count": 11,
   "metadata": {
    "collapsed": false
   },
   "outputs": [
    {
     "data": {
      "text/plain": [
       "[u'Galvanize',\n",
       " u'Cumulus Media',\n",
       " u'United Nations',\n",
       " u'Yodle',\n",
       " u'7Park Data',\n",
       " u'Morgan Stanley',\n",
       " u'JPMorgan Chase',\n",
       " u'EXPERIAN',\n",
       " u'MassMutual Financial Group',\n",
       " u'Citi']"
      ]
     },
     "execution_count": 11,
     "metadata": {},
     "output_type": "execute_result"
    }
   ],
   "source": [
    "company"
   ]
  },
  {
   "cell_type": "markdown",
   "metadata": {
    "focus": false,
    "id": "34070e89-9521-4b45-90c8-57a6599aac68"
   },
   "source": [
    "The code seems to be working. To scale up our scraping, we need to accumulate more results. We can do this by examining the URL above.\n",
    "\n",
    "- \"http://www.indeed.com/jobs?q=data+scientist+%2420%2C000&l=New+York&start=10\"\n",
    "\n",
    "There are two query parameters here we can alter to collect more results, the `l=New+York` and the `start=10`. The first controls the location of the results (so we can try a different city). The second controls where in the results to start and gives 10 results (thus, we can keep incrementing by 10 to go further in the list)."
   ]
  },
  {
   "cell_type": "code",
   "execution_count": 4,
   "metadata": {
    "collapsed": false
   },
   "outputs": [
    {
     "name": "stdout",
     "output_type": "stream",
     "text": [
      "Houston\n",
      "Boston\n",
      "Phoenix\n",
      "Chicago\n",
      "San+Francisco\n",
      "New+York\n",
      "Dallas\n",
      "Philadelphia\n",
      "Denver\n",
      "Los+Angeles\n",
      "Pittsburgh\n",
      "Miami\n",
      "Atlanta\n",
      "Seattle\n",
      "Austin\n",
      "Portland\n"
     ]
    }
   ],
   "source": [
    "df_dic = {}\n",
    "for city in set(['New+York', 'Chicago', 'San+Francisco', 'Austin', 'Seattle', \n",
    "    'Los+Angeles', 'Philadelphia', 'Atlanta', 'Dallas', 'Pittsburgh', \n",
    "    'Portland', 'Phoenix', 'Denver', 'Houston', 'Miami', 'Boston']):\n",
    "    print city"
   ]
  },
  {
   "cell_type": "code",
   "execution_count": null,
   "metadata": {
    "collapsed": true
   },
   "outputs": [],
   "source": [
    "### The following code was used to scrape the data, but is not being run in this notebook.\n",
    "\n",
    "df_dic = {}\n",
    "for city in set(['New+York', 'Chicago', 'San+Francisco', 'Austin', 'Seattle', \n",
    "    'Los+Angeles', 'Philadelphia', 'Atlanta', 'Dallas', 'Pittsburgh', \n",
    "    'Portland', 'Phoenix', 'Denver', 'Houston', 'Miami', 'Boston']):\n",
    "    print city\n",
    "    city_dic = {}\n",
    "    scrape_range = range(0,1000,10)\n",
    "    while scrape_range != []:\n",
    "        for page in scrape_range: # page from 1 to 1010 (last page we can scrape is 1010)\n",
    "            try:\n",
    "                print scrape_range\n",
    "                job=[]\n",
    "                company=[]\n",
    "                salary=[]\n",
    "                location=[]\n",
    "                url = \"http://www.indeed.com/jobs?q=data+scientist+$20,000&l=%s&start=%s\" % (city,page)\n",
    "                pval = urllib2.urlopen(url).read()\n",
    "                soup = BeautifulSoup(pval, 'lxml')\n",
    "                resultcol = soup.findAll('div', \"row\")\n",
    "                for row in resultcol:\n",
    "                    try:\n",
    "                        job.append(row.a.getText())\n",
    "                    except:\n",
    "                        job.append('0')\n",
    "                    try:\n",
    "                        company.append(row.span.getText().strip())\n",
    "                    except:\n",
    "                        company.append('0')\n",
    "                    try:\n",
    "                        location += [r.getText().strip() for r in row('span', class_='location')]\n",
    "                    except:\n",
    "                        location += ['0']\n",
    "                    try:\n",
    "                        salary.append(row.nobr.getText())\n",
    "                    except:\n",
    "                        salary.append(np.nan)\n",
    "                if page == 0:\n",
    "                    ref_job = job\n",
    "                    ref_company = company\n",
    "                    ref_location = location\n",
    "                    df = pd.DataFrame({'Job':job,'Company':company,'Location':location,'Salary':salary})\n",
    "                    ref_df = df\n",
    "                    city_dic[city+'_'+str(page)] = df\n",
    "                    scrape_range.remove(page)\n",
    "                elif (job!=ref_job)&(company!=ref_company)&(location!=ref_location):\n",
    "                    df = pd.DataFrame({'Job':job,'Company':company,'Location':location,'Salary':salary})\n",
    "                    city_dic[city+'_'+str(page)] = df\n",
    "                    scrape_range.remove(page)\n",
    "            except:\n",
    "                scrape_range.remove(page)\n",
    "    data = pd.concat(city_dic.values())\n",
    "    data = data.reset_index(drop=True)\n",
    "    df_dic[city] = data\n",
    "    print 'Finished scraping %s' % (city)\n",
    "\n",
    "df_dic"
   ]
  },
  {
   "cell_type": "code",
   "execution_count": 120,
   "metadata": {
    "collapsed": false
   },
   "outputs": [
    {
     "data": {
      "text/html": [
       "<div>\n",
       "<table border=\"1\" class=\"dataframe\">\n",
       "  <thead>\n",
       "    <tr style=\"text-align: right;\">\n",
       "      <th></th>\n",
       "      <th>Company</th>\n",
       "      <th>Job</th>\n",
       "      <th>Location</th>\n",
       "      <th>Salary</th>\n",
       "    </tr>\n",
       "  </thead>\n",
       "  <tbody>\n",
       "    <tr>\n",
       "      <th>0</th>\n",
       "      <td>Trunk Club</td>\n",
       "      <td>Director of Data Science</td>\n",
       "      <td>Chicago, IL 60654 (Loop area)</td>\n",
       "      <td>NaN</td>\n",
       "    </tr>\n",
       "    <tr>\n",
       "      <th>1</th>\n",
       "      <td>Ipsos North America</td>\n",
       "      <td>USPA - Statistical Programmer</td>\n",
       "      <td>Chicago, IL</td>\n",
       "      <td>NaN</td>\n",
       "    </tr>\n",
       "    <tr>\n",
       "      <th>2</th>\n",
       "      <td>University of Chicago</td>\n",
       "      <td>Research Data Analyst</td>\n",
       "      <td>Chicago, IL</td>\n",
       "      <td>NaN</td>\n",
       "    </tr>\n",
       "    <tr>\n",
       "      <th>3</th>\n",
       "      <td>Ipsos North America</td>\n",
       "      <td>Connect - Senior Research Analyst</td>\n",
       "      <td>Chicago, IL</td>\n",
       "      <td>NaN</td>\n",
       "    </tr>\n",
       "    <tr>\n",
       "      <th>4</th>\n",
       "      <td>Amyx</td>\n",
       "      <td>SEC Financial Computer Scientist (Python)</td>\n",
       "      <td>Chicago, IL</td>\n",
       "      <td>NaN</td>\n",
       "    </tr>\n",
       "  </tbody>\n",
       "</table>\n",
       "</div>"
      ],
      "text/plain": [
       "                 Company                                        Job  \\\n",
       "0             Trunk Club                   Director of Data Science   \n",
       "1    Ipsos North America              USPA - Statistical Programmer   \n",
       "2  University of Chicago                      Research Data Analyst   \n",
       "3    Ipsos North America          Connect - Senior Research Analyst   \n",
       "4                   Amyx  SEC Financial Computer Scientist (Python)   \n",
       "\n",
       "                        Location Salary  \n",
       "0  Chicago, IL 60654 (Loop area)    NaN  \n",
       "1                    Chicago, IL    NaN  \n",
       "2                    Chicago, IL    NaN  \n",
       "3                    Chicago, IL    NaN  \n",
       "4                    Chicago, IL    NaN  "
      ]
     },
     "execution_count": 120,
     "metadata": {},
     "output_type": "execute_result"
    }
   ],
   "source": [
    "df_dic['Chicago'].head()"
   ]
  },
  {
   "cell_type": "code",
   "execution_count": 13,
   "metadata": {
    "collapsed": false
   },
   "outputs": [],
   "source": [
    "final_df = df_dic['Chicago']"
   ]
  },
  {
   "cell_type": "code",
   "execution_count": 14,
   "metadata": {
    "collapsed": true
   },
   "outputs": [],
   "source": [
    "cities = (['New+York', 'San+Francisco', 'Austin', 'Seattle', \n",
    "    'Los+Angeles', 'Philadelphia', 'Atlanta', 'Dallas', 'Pittsburgh', \n",
    "    'Portland', 'Phoenix', 'Denver', 'Houston', 'Miami', YOUR_CITY])"
   ]
  },
  {
   "cell_type": "markdown",
   "metadata": {},
   "source": [
    "We merge all the dataframes from different cities so that we get our final dataframe."
   ]
  },
  {
   "cell_type": "code",
   "execution_count": 15,
   "metadata": {
    "collapsed": false,
    "focus": false,
    "id": "6e259594-1c52-436b-ab9e-527e071941c1"
   },
   "outputs": [],
   "source": [
    "for i in cities:\n",
    "    final_df= final_df.append(df_dic[i])"
   ]
  },
  {
   "cell_type": "code",
   "execution_count": 16,
   "metadata": {
    "collapsed": false
   },
   "outputs": [
    {
     "data": {
      "text/html": [
       "<div>\n",
       "<table border=\"1\" class=\"dataframe\">\n",
       "  <thead>\n",
       "    <tr style=\"text-align: right;\">\n",
       "      <th></th>\n",
       "      <th>Company</th>\n",
       "      <th>Job</th>\n",
       "      <th>Location</th>\n",
       "      <th>Salary</th>\n",
       "    </tr>\n",
       "  </thead>\n",
       "  <tbody>\n",
       "    <tr>\n",
       "      <th>count</th>\n",
       "      <td>12334</td>\n",
       "      <td>12334</td>\n",
       "      <td>12334</td>\n",
       "      <td>670</td>\n",
       "    </tr>\n",
       "    <tr>\n",
       "      <th>unique</th>\n",
       "      <td>2354</td>\n",
       "      <td>5195</td>\n",
       "      <td>729</td>\n",
       "      <td>306</td>\n",
       "    </tr>\n",
       "    <tr>\n",
       "      <th>top</th>\n",
       "      <td>Magic Leap, Inc.</td>\n",
       "      <td>Data Scientist</td>\n",
       "      <td>Houston, TX</td>\n",
       "      <td>$50,000 a year</td>\n",
       "    </tr>\n",
       "    <tr>\n",
       "      <th>freq</th>\n",
       "      <td>577</td>\n",
       "      <td>369</td>\n",
       "      <td>698</td>\n",
       "      <td>94</td>\n",
       "    </tr>\n",
       "  </tbody>\n",
       "</table>\n",
       "</div>"
      ],
      "text/plain": [
       "                 Company             Job     Location          Salary\n",
       "count              12334           12334        12334             670\n",
       "unique              2354            5195          729             306\n",
       "top     Magic Leap, Inc.  Data Scientist  Houston, TX  $50,000 a year\n",
       "freq                 577             369          698              94"
      ]
     },
     "execution_count": 16,
     "metadata": {},
     "output_type": "execute_result"
    }
   ],
   "source": [
    "final_df.describe()"
   ]
  },
  {
   "cell_type": "code",
   "execution_count": 17,
   "metadata": {
    "collapsed": true
   },
   "outputs": [],
   "source": [
    "df_sal = final_df.dropna()"
   ]
  },
  {
   "cell_type": "code",
   "execution_count": 18,
   "metadata": {
    "collapsed": false
   },
   "outputs": [
    {
     "data": {
      "text/html": [
       "<div>\n",
       "<table border=\"1\" class=\"dataframe\">\n",
       "  <thead>\n",
       "    <tr style=\"text-align: right;\">\n",
       "      <th></th>\n",
       "      <th>Company</th>\n",
       "      <th>Job</th>\n",
       "      <th>Location</th>\n",
       "      <th>Salary</th>\n",
       "    </tr>\n",
       "  </thead>\n",
       "  <tbody>\n",
       "    <tr>\n",
       "      <th>29</th>\n",
       "      <td>Modis</td>\n",
       "      <td>Statistical Data Analyst- Long-term Contract i...</td>\n",
       "      <td>Northbrook, IL 60062</td>\n",
       "      <td>$25 - $35 an hour</td>\n",
       "    </tr>\n",
       "    <tr>\n",
       "      <th>30</th>\n",
       "      <td>S.C. International</td>\n",
       "      <td>Statistical Analyst -- Health-7444 - 7444</td>\n",
       "      <td>Chicago, IL</td>\n",
       "      <td>$80,000 a year</td>\n",
       "    </tr>\n",
       "    <tr>\n",
       "      <th>88</th>\n",
       "      <td>Workbridge Associates</td>\n",
       "      <td>Senior Data Scientist (H20, Python, and R)</td>\n",
       "      <td>Chicago, IL</td>\n",
       "      <td>$110,000 - $155,000 a year</td>\n",
       "    </tr>\n",
       "    <tr>\n",
       "      <th>95</th>\n",
       "      <td>Workbridge Associates</td>\n",
       "      <td>Data Scientist (Healthcare Data)</td>\n",
       "      <td>Chicago, IL</td>\n",
       "      <td>$110,000 a year</td>\n",
       "    </tr>\n",
       "    <tr>\n",
       "      <th>103</th>\n",
       "      <td>Jobspring Partners</td>\n",
       "      <td>Quality Engineer (Big Data)</td>\n",
       "      <td>Chicago, IL</td>\n",
       "      <td>$70,000 - $105,000 a year</td>\n",
       "    </tr>\n",
       "  </tbody>\n",
       "</table>\n",
       "</div>"
      ],
      "text/plain": [
       "                   Company                                                Job  \\\n",
       "29                   Modis  Statistical Data Analyst- Long-term Contract i...   \n",
       "30      S.C. International          Statistical Analyst -- Health-7444 - 7444   \n",
       "88   Workbridge Associates         Senior Data Scientist (H20, Python, and R)   \n",
       "95   Workbridge Associates                   Data Scientist (Healthcare Data)   \n",
       "103     Jobspring Partners                        Quality Engineer (Big Data)   \n",
       "\n",
       "                 Location                      Salary  \n",
       "29   Northbrook, IL 60062           $25 - $35 an hour  \n",
       "30            Chicago, IL              $80,000 a year  \n",
       "88            Chicago, IL  $110,000 - $155,000 a year  \n",
       "95            Chicago, IL             $110,000 a year  \n",
       "103           Chicago, IL   $70,000 - $105,000 a year  "
      ]
     },
     "execution_count": 18,
     "metadata": {},
     "output_type": "execute_result"
    }
   ],
   "source": [
    "df_sal.head()"
   ]
  },
  {
   "cell_type": "markdown",
   "metadata": {
    "focus": false,
    "id": "ff98ce64-78a7-441f-a675-63464e32c834"
   },
   "source": [
    "Lastly, we need to clean up salary data. \n",
    "\n",
    "1. Only a small number of the scraped results have salary information - only these will be used for modeling.\n",
    "1. Some of the salaries are not yearly but hourly or weekly, these will not be useful to us for now\n",
    "1. Some of the entries may be duplicated\n",
    "1. The salaries are given as text and usually with ranges."
   ]
  },
  {
   "cell_type": "code",
   "execution_count": 19,
   "metadata": {
    "collapsed": false,
    "focus": false,
    "id": "58533e57-f86b-494a-b841-e7b59c6229c6"
   },
   "outputs": [],
   "source": [
    "df_sal = df_sal[df_sal.Salary.str.contains(\"month\") == False]\n",
    "df_sal = df_sal[df_sal.Salary.str.contains(\"hour\") == False]\n",
    "df_sal = df_sal[df_sal.Salary.str.contains(\"day\") == False]\n",
    "df_sal = df_sal[df_sal.Salary.str.contains('week') == False]\n",
    "df_sal = df_sal.drop_duplicates()"
   ]
  },
  {
   "cell_type": "code",
   "execution_count": 20,
   "metadata": {
    "collapsed": false
   },
   "outputs": [],
   "source": [
    "df_sal['Location']= df_sal['Location'].astype(str)"
   ]
  },
  {
   "cell_type": "code",
   "execution_count": 23,
   "metadata": {
    "collapsed": false,
    "focus": false,
    "id": "a0f701e0-80bd-40ba-9101-4535860c0968"
   },
   "outputs": [],
   "source": [
    "df_sal['Salary'] = df_sal['Salary'].map(lambda x: x.lstrip('$').rstrip('a year'))"
   ]
  },
  {
   "cell_type": "code",
   "execution_count": 24,
   "metadata": {
    "collapsed": false,
    "focus": false,
    "id": "783fd153-28ac-47ab-bfca-27e7c1de95b4"
   },
   "outputs": [],
   "source": [
    "df_sal[['Salary', 'Salary_2']]= df_sal['Salary'].str.split('$', expand=True)\n",
    "df_sal = df_sal.fillna(value='0')"
   ]
  },
  {
   "cell_type": "code",
   "execution_count": 25,
   "metadata": {
    "collapsed": false
   },
   "outputs": [],
   "source": [
    "df_sal['Salary'] = df_sal['Salary'].map(lambda x: x.rstrip(' -'))"
   ]
  },
  {
   "cell_type": "code",
   "execution_count": 28,
   "metadata": {
    "collapsed": false
   },
   "outputs": [],
   "source": [
    "df_sal['Salary_2'] = df_sal['Salary_2'].map(lambda x: int(x.replace(',', '')))"
   ]
  },
  {
   "cell_type": "code",
   "execution_count": 29,
   "metadata": {
    "collapsed": false
   },
   "outputs": [],
   "source": [
    "df_sal['Sal_avg']=0\n",
    "for i in range(len(df_sal['Salary'])):\n",
    "    if df_sal.iloc[i, 4]==0:\n",
    "        df_sal.iloc[i, 5]= df_sal.iloc[i,3]\n",
    "    else:\n",
    "        df_sal.iloc[i, 5]= (df_sal.iloc[i,3]+df_sal.iloc[i,4])/2"
   ]
  },
  {
   "cell_type": "markdown",
   "metadata": {},
   "source": [
    "The code above has cleaned up salary, so that we have a new column which displays the yearly salary per title. If a range is given, this column takes the average of the minimum and the maximum value of that range. This dataset is saved to a csv for later use."
   ]
  },
  {
   "cell_type": "code",
   "execution_count": 190,
   "metadata": {
    "collapsed": false
   },
   "outputs": [],
   "source": [
    "df_sal.to_csv('Salaries.csv', sep=';', encoding='utf-8')"
   ]
  },
  {
   "cell_type": "markdown",
   "metadata": {
    "focus": false,
    "id": "04563b69-f7b6-466f-9d65-fc62c9ddee6a"
   },
   "source": [
    "## Predicting salaries using Logistic Regression"
   ]
  },
  {
   "cell_type": "markdown",
   "metadata": {
    "focus": false,
    "id": "243e949e-2742-40af-872e-fec475fd306c"
   },
   "source": [
    "In this part of the project, the scraped csv is loaded in so that I can do some initial predictions using logistic regression."
   ]
  },
  {
   "cell_type": "code",
   "execution_count": 5,
   "metadata": {
    "collapsed": false
   },
   "outputs": [],
   "source": [
    "import pandas as pd\n",
    "import numpy as np"
   ]
  },
  {
   "cell_type": "code",
   "execution_count": 7,
   "metadata": {
    "collapsed": false,
    "focus": false,
    "id": "588f9845-6143-4bcc-bfd1-85d45b79303d"
   },
   "outputs": [],
   "source": [
    "df = pd.read_csv('Dataset/Salaries.csv', sep=';')"
   ]
  },
  {
   "cell_type": "code",
   "execution_count": 8,
   "metadata": {
    "collapsed": false
   },
   "outputs": [],
   "source": [
    "df = df.drop(['Salary'], axis=1)\n",
    "df = df.drop(['Salary_2'], axis=1)"
   ]
  },
  {
   "cell_type": "code",
   "execution_count": 9,
   "metadata": {
    "collapsed": false
   },
   "outputs": [
    {
     "data": {
      "text/html": [
       "<div>\n",
       "<table border=\"1\" class=\"dataframe\">\n",
       "  <thead>\n",
       "    <tr style=\"text-align: right;\">\n",
       "      <th></th>\n",
       "      <th>Unnamed: 0</th>\n",
       "      <th>Company</th>\n",
       "      <th>Job</th>\n",
       "      <th>Location</th>\n",
       "      <th>Sal_avg</th>\n",
       "    </tr>\n",
       "  </thead>\n",
       "  <tbody>\n",
       "    <tr>\n",
       "      <th>0</th>\n",
       "      <td>30</td>\n",
       "      <td>S.C. International</td>\n",
       "      <td>Statistical Analyst -- Health-7444 - 7444</td>\n",
       "      <td>Chicago</td>\n",
       "      <td>80000</td>\n",
       "    </tr>\n",
       "    <tr>\n",
       "      <th>1</th>\n",
       "      <td>88</td>\n",
       "      <td>Workbridge Associates</td>\n",
       "      <td>Senior Data Scientist (H20, Python, and R)</td>\n",
       "      <td>Chicago</td>\n",
       "      <td>132500</td>\n",
       "    </tr>\n",
       "    <tr>\n",
       "      <th>2</th>\n",
       "      <td>95</td>\n",
       "      <td>Workbridge Associates</td>\n",
       "      <td>Data Scientist (Healthcare Data)</td>\n",
       "      <td>Chicago</td>\n",
       "      <td>110000</td>\n",
       "    </tr>\n",
       "    <tr>\n",
       "      <th>3</th>\n",
       "      <td>103</td>\n",
       "      <td>Jobspring Partners</td>\n",
       "      <td>Quality Engineer (Big Data)</td>\n",
       "      <td>Chicago, IL</td>\n",
       "      <td>87500</td>\n",
       "    </tr>\n",
       "    <tr>\n",
       "      <th>4</th>\n",
       "      <td>114</td>\n",
       "      <td>Analytic Recruiting</td>\n",
       "      <td>Manager / Director of Predictive Modeling</td>\n",
       "      <td>Chicago</td>\n",
       "      <td>115000</td>\n",
       "    </tr>\n",
       "  </tbody>\n",
       "</table>\n",
       "</div>"
      ],
      "text/plain": [
       "   Unnamed: 0                Company  \\\n",
       "0          30     S.C. International   \n",
       "1          88  Workbridge Associates   \n",
       "2          95  Workbridge Associates   \n",
       "3         103     Jobspring Partners   \n",
       "4         114    Analytic Recruiting   \n",
       "\n",
       "                                          Job     Location  Sal_avg  \n",
       "0   Statistical Analyst -- Health-7444 - 7444      Chicago    80000  \n",
       "1  Senior Data Scientist (H20, Python, and R)      Chicago   132500  \n",
       "2            Data Scientist (Healthcare Data)      Chicago   110000  \n",
       "3                 Quality Engineer (Big Data)  Chicago, IL    87500  \n",
       "4   Manager / Director of Predictive Modeling      Chicago   115000  "
      ]
     },
     "execution_count": 9,
     "metadata": {},
     "output_type": "execute_result"
    }
   ],
   "source": [
    "df.head()"
   ]
  },
  {
   "cell_type": "code",
   "execution_count": 10,
   "metadata": {
    "collapsed": false
   },
   "outputs": [
    {
     "data": {
      "text/plain": [
       "New York                             62\n",
       "Chicago                              20\n",
       "San Francisco, CA                    19\n",
       "Boston, MA                           18\n",
       "Atlanta, GA                          17\n",
       "Los Angeles, CA                      17\n",
       "New York, NY                         13\n",
       "Coral Gables, FL                     11\n",
       "Manhattan, NY                        10\n",
       "Cambridge, MA                        10\n",
       "Philadelphia, PA                      9\n",
       "Seattle, WA                           7\n",
       "Chicago, IL                           7\n",
       "Phoenix, AZ                           7\n",
       "Austin, TX                            7\n",
       "Houston, TX                           7\n",
       "Denver, CO                            5\n",
       "Pittsburgh, PA                        5\n",
       "Boston, MA 02116 (South End area)     5\n",
       "Phoenix, AZ 85012 (Alhambra area)     4\n",
       "Name: Location, dtype: int64"
      ]
     },
     "execution_count": 10,
     "metadata": {},
     "output_type": "execute_result"
    }
   ],
   "source": [
    "df['Location'].value_counts().head(20)"
   ]
  },
  {
   "cell_type": "markdown",
   "metadata": {},
   "source": [
    "Since some less frequent locations in these search results are not very clean, I use a function to find inputs in the dataframe that exactly match (part of) a location name."
   ]
  },
  {
   "cell_type": "code",
   "execution_count": 11,
   "metadata": {
    "collapsed": false
   },
   "outputs": [],
   "source": [
    "city_no_spaces = (['York', 'Francisco', 'Austin', 'Seattle', \n",
    "    'Angeles', 'Philadelphia', 'Atlanta', 'Dallas', 'Pittsburgh', \n",
    "    'Portland', 'Chicago', 'Phoenix', 'Denver', 'Houston', 'Miami', 'Boston'])"
   ]
  },
  {
   "cell_type": "code",
   "execution_count": 12,
   "metadata": {
    "collapsed": false
   },
   "outputs": [],
   "source": [
    "for city in city_no_spaces:\n",
    "    for i in df.index:\n",
    "        if city in df.loc[i, 'Location']:\n",
    "            df.loc[i, 'Location']= city"
   ]
  },
  {
   "cell_type": "code",
   "execution_count": 13,
   "metadata": {
    "collapsed": false
   },
   "outputs": [],
   "source": [
    "df = df.loc[df['Location'].isin(city_no_spaces)]\n"
   ]
  },
  {
   "cell_type": "code",
   "execution_count": 14,
   "metadata": {
    "collapsed": false
   },
   "outputs": [
    {
     "data": {
      "text/html": [
       "<div>\n",
       "<table border=\"1\" class=\"dataframe\">\n",
       "  <thead>\n",
       "    <tr style=\"text-align: right;\">\n",
       "      <th></th>\n",
       "      <th>Unnamed: 0</th>\n",
       "      <th>Company</th>\n",
       "      <th>Job</th>\n",
       "      <th>Location</th>\n",
       "      <th>Sal_avg</th>\n",
       "    </tr>\n",
       "  </thead>\n",
       "  <tbody>\n",
       "    <tr>\n",
       "      <th>0</th>\n",
       "      <td>30</td>\n",
       "      <td>S.C. International</td>\n",
       "      <td>Statistical Analyst -- Health-7444 - 7444</td>\n",
       "      <td>Chicago</td>\n",
       "      <td>80000</td>\n",
       "    </tr>\n",
       "    <tr>\n",
       "      <th>1</th>\n",
       "      <td>88</td>\n",
       "      <td>Workbridge Associates</td>\n",
       "      <td>Senior Data Scientist (H20, Python, and R)</td>\n",
       "      <td>Chicago</td>\n",
       "      <td>132500</td>\n",
       "    </tr>\n",
       "    <tr>\n",
       "      <th>2</th>\n",
       "      <td>95</td>\n",
       "      <td>Workbridge Associates</td>\n",
       "      <td>Data Scientist (Healthcare Data)</td>\n",
       "      <td>Chicago</td>\n",
       "      <td>110000</td>\n",
       "    </tr>\n",
       "    <tr>\n",
       "      <th>3</th>\n",
       "      <td>103</td>\n",
       "      <td>Jobspring Partners</td>\n",
       "      <td>Quality Engineer (Big Data)</td>\n",
       "      <td>Chicago</td>\n",
       "      <td>87500</td>\n",
       "    </tr>\n",
       "    <tr>\n",
       "      <th>4</th>\n",
       "      <td>114</td>\n",
       "      <td>Analytic Recruiting</td>\n",
       "      <td>Manager / Director of Predictive Modeling</td>\n",
       "      <td>Chicago</td>\n",
       "      <td>115000</td>\n",
       "    </tr>\n",
       "  </tbody>\n",
       "</table>\n",
       "</div>"
      ],
      "text/plain": [
       "   Unnamed: 0                Company  \\\n",
       "0          30     S.C. International   \n",
       "1          88  Workbridge Associates   \n",
       "2          95  Workbridge Associates   \n",
       "3         103     Jobspring Partners   \n",
       "4         114    Analytic Recruiting   \n",
       "\n",
       "                                          Job Location  Sal_avg  \n",
       "0   Statistical Analyst -- Health-7444 - 7444  Chicago    80000  \n",
       "1  Senior Data Scientist (H20, Python, and R)  Chicago   132500  \n",
       "2            Data Scientist (Healthcare Data)  Chicago   110000  \n",
       "3                 Quality Engineer (Big Data)  Chicago    87500  \n",
       "4   Manager / Director of Predictive Modeling  Chicago   115000  "
      ]
     },
     "execution_count": 14,
     "metadata": {},
     "output_type": "execute_result"
    }
   ],
   "source": [
    "df.head()"
   ]
  },
  {
   "cell_type": "markdown",
   "metadata": {
    "focus": false,
    "id": "c7631f51-07f2-4c79-a093-3e9bc7849a48"
   },
   "source": [
    "I want to predict a binary variable, whether the salary is high or low. We could also perform Linear Regression (or any regression) to predict the salary value here. Instead, we are going to convert this into a binary classification problem, by predicting two classes, HIGH vs LOW salary.\n",
    "\n",
    "While performing regression may be better, performing classification may help remove some of the noise of the extreme salaries. We don't have to choice the median as the splitting point - we could also split on the 75th percentile or any other reasonable breaking point.\n",
    "\n",
    "In fact, the ideal scenario may be to predict many levels of salaries."
   ]
  },
  {
   "cell_type": "code",
   "execution_count": 15,
   "metadata": {
    "collapsed": false
   },
   "outputs": [
    {
     "name": "stdout",
     "output_type": "stream",
     "text": [
      "105000.0\n"
     ]
    }
   ],
   "source": [
    "med_salary= np.median(df['Sal_avg'])\n",
    "print med_salary"
   ]
  },
  {
   "cell_type": "code",
   "execution_count": 16,
   "metadata": {
    "collapsed": false
   },
   "outputs": [],
   "source": [
    "for i in df.index:\n",
    "    if df.loc[i, 'Sal_avg']>med_salary:\n",
    "        df.loc[i,'high_salary']=int(1) \n",
    "    else: \n",
    "        df.loc[i,'high_salary']=int(0)"
   ]
  },
  {
   "cell_type": "code",
   "execution_count": 17,
   "metadata": {
    "collapsed": false
   },
   "outputs": [
    {
     "data": {
      "text/html": [
       "<div>\n",
       "<table border=\"1\" class=\"dataframe\">\n",
       "  <thead>\n",
       "    <tr style=\"text-align: right;\">\n",
       "      <th></th>\n",
       "      <th>Unnamed: 0</th>\n",
       "      <th>Company</th>\n",
       "      <th>Job</th>\n",
       "      <th>Location</th>\n",
       "      <th>Sal_avg</th>\n",
       "      <th>high_salary</th>\n",
       "    </tr>\n",
       "  </thead>\n",
       "  <tbody>\n",
       "    <tr>\n",
       "      <th>0</th>\n",
       "      <td>30</td>\n",
       "      <td>S.C. International</td>\n",
       "      <td>Statistical Analyst -- Health-7444 - 7444</td>\n",
       "      <td>Chicago</td>\n",
       "      <td>80000</td>\n",
       "      <td>0.0</td>\n",
       "    </tr>\n",
       "    <tr>\n",
       "      <th>1</th>\n",
       "      <td>88</td>\n",
       "      <td>Workbridge Associates</td>\n",
       "      <td>Senior Data Scientist (H20, Python, and R)</td>\n",
       "      <td>Chicago</td>\n",
       "      <td>132500</td>\n",
       "      <td>1.0</td>\n",
       "    </tr>\n",
       "    <tr>\n",
       "      <th>2</th>\n",
       "      <td>95</td>\n",
       "      <td>Workbridge Associates</td>\n",
       "      <td>Data Scientist (Healthcare Data)</td>\n",
       "      <td>Chicago</td>\n",
       "      <td>110000</td>\n",
       "      <td>1.0</td>\n",
       "    </tr>\n",
       "    <tr>\n",
       "      <th>3</th>\n",
       "      <td>103</td>\n",
       "      <td>Jobspring Partners</td>\n",
       "      <td>Quality Engineer (Big Data)</td>\n",
       "      <td>Chicago</td>\n",
       "      <td>87500</td>\n",
       "      <td>0.0</td>\n",
       "    </tr>\n",
       "    <tr>\n",
       "      <th>4</th>\n",
       "      <td>114</td>\n",
       "      <td>Analytic Recruiting</td>\n",
       "      <td>Manager / Director of Predictive Modeling</td>\n",
       "      <td>Chicago</td>\n",
       "      <td>115000</td>\n",
       "      <td>1.0</td>\n",
       "    </tr>\n",
       "  </tbody>\n",
       "</table>\n",
       "</div>"
      ],
      "text/plain": [
       "   Unnamed: 0                Company  \\\n",
       "0          30     S.C. International   \n",
       "1          88  Workbridge Associates   \n",
       "2          95  Workbridge Associates   \n",
       "3         103     Jobspring Partners   \n",
       "4         114    Analytic Recruiting   \n",
       "\n",
       "                                          Job Location  Sal_avg  high_salary  \n",
       "0   Statistical Analyst -- Health-7444 - 7444  Chicago    80000          0.0  \n",
       "1  Senior Data Scientist (H20, Python, and R)  Chicago   132500          1.0  \n",
       "2            Data Scientist (Healthcare Data)  Chicago   110000          1.0  \n",
       "3                 Quality Engineer (Big Data)  Chicago    87500          0.0  \n",
       "4   Manager / Director of Predictive Modeling  Chicago   115000          1.0  "
      ]
     },
     "execution_count": 17,
     "metadata": {},
     "output_type": "execute_result"
    }
   ],
   "source": [
    "df.head()"
   ]
  },
  {
   "cell_type": "markdown",
   "metadata": {
    "focus": false,
    "id": "a7afb2c0-d41e-4779-8216-91cd8dd4473f"
   },
   "source": [
    "I run a model using statsmodels to get a baseline accuracy for the classification problem."
   ]
  },
  {
   "cell_type": "code",
   "execution_count": 18,
   "metadata": {
    "collapsed": false,
    "focus": false,
    "id": "87a17d3d-b7f4-4747-9f75-f9af1d18a174"
   },
   "outputs": [
    {
     "name": "stdout",
     "output_type": "stream",
     "text": [
      "Optimization terminated successfully.\n",
      "         Current function value: 0.692964\n",
      "         Iterations 3\n"
     ]
    },
    {
     "data": {
      "text/html": [
       "<table class=\"simpletable\">\n",
       "<caption>Logit Regression Results</caption>\n",
       "<tr>\n",
       "  <th>Dep. Variable:</th>    <td>high_salary</td>   <th>  No. Observations:  </th>  <td>   261</td> \n",
       "</tr>\n",
       "<tr>\n",
       "  <th>Model:</th>               <td>Logit</td>      <th>  Df Residuals:      </th>  <td>   260</td> \n",
       "</tr>\n",
       "<tr>\n",
       "  <th>Method:</th>               <td>MLE</td>       <th>  Df Model:          </th>  <td>     0</td> \n",
       "</tr>\n",
       "<tr>\n",
       "  <th>Date:</th>          <td>Sun, 22 Jan 2017</td> <th>  Pseudo R-squ.:     </th>  <td> 0.000</td> \n",
       "</tr>\n",
       "<tr>\n",
       "  <th>Time:</th>              <td>21:04:22</td>     <th>  Log-Likelihood:    </th> <td> -180.86</td>\n",
       "</tr>\n",
       "<tr>\n",
       "  <th>converged:</th>           <td>True</td>       <th>  LL-Null:           </th> <td> -180.86</td>\n",
       "</tr>\n",
       "<tr>\n",
       "  <th> </th>                      <td> </td>        <th>  LLR p-value:       </th>  <td>   nan</td> \n",
       "</tr>\n",
       "</table>\n",
       "<table class=\"simpletable\">\n",
       "<tr>\n",
       "      <td></td>         <th>coef</th>     <th>std err</th>      <th>z</th>      <th>P>|z|</th> <th>[95.0% Conf. Int.]</th> \n",
       "</tr>\n",
       "<tr>\n",
       "  <th>Intercept</th> <td>   -0.0383</td> <td>    0.124</td> <td>   -0.309</td> <td> 0.757</td> <td>   -0.281     0.204</td>\n",
       "</tr>\n",
       "</table>"
      ],
      "text/plain": [
       "<class 'statsmodels.iolib.summary.Summary'>\n",
       "\"\"\"\n",
       "                           Logit Regression Results                           \n",
       "==============================================================================\n",
       "Dep. Variable:            high_salary   No. Observations:                  261\n",
       "Model:                          Logit   Df Residuals:                      260\n",
       "Method:                           MLE   Df Model:                            0\n",
       "Date:                Sun, 22 Jan 2017   Pseudo R-squ.:                   0.000\n",
       "Time:                        21:04:22   Log-Likelihood:                -180.86\n",
       "converged:                       True   LL-Null:                       -180.86\n",
       "                                        LLR p-value:                       nan\n",
       "==============================================================================\n",
       "                 coef    std err          z      P>|z|      [95.0% Conf. Int.]\n",
       "------------------------------------------------------------------------------\n",
       "Intercept     -0.0383      0.124     -0.309      0.757        -0.281     0.204\n",
       "==============================================================================\n",
       "\"\"\""
      ]
     },
     "execution_count": 18,
     "metadata": {},
     "output_type": "execute_result"
    }
   ],
   "source": [
    "import statsmodels.formula.api as smf\n",
    "\n",
    "model1 = smf.logit(formula=\"high_salary ~ 1\",data = df).fit() \n",
    "model1.summary() "
   ]
  },
  {
   "cell_type": "code",
   "execution_count": 19,
   "metadata": {
    "collapsed": false
   },
   "outputs": [],
   "source": [
    "outcomes = df[\"high_salary\"].value_counts()"
   ]
  },
  {
   "cell_type": "code",
   "execution_count": 20,
   "metadata": {
    "collapsed": false
   },
   "outputs": [
    {
     "data": {
      "text/plain": [
       "0.0    133\n",
       "1.0    128\n",
       "Name: high_salary, dtype: int64"
      ]
     },
     "execution_count": 20,
     "metadata": {},
     "output_type": "execute_result"
    }
   ],
   "source": [
    "outcomes"
   ]
  },
  {
   "cell_type": "code",
   "execution_count": 21,
   "metadata": {
    "collapsed": true
   },
   "outputs": [],
   "source": [
    "from __future__ import division"
   ]
  },
  {
   "cell_type": "code",
   "execution_count": 22,
   "metadata": {
    "collapsed": false
   },
   "outputs": [
    {
     "name": "stdout",
     "output_type": "stream",
     "text": [
      "0.490421455939\n"
     ]
    }
   ],
   "source": [
    "prob_high_salary=outcomes[1]/(outcomes[0]+outcomes[1])\n",
    "print(prob_high_salary)"
   ]
  },
  {
   "cell_type": "markdown",
   "metadata": {},
   "source": [
    "Since the criteria for getting a high salary is to be above the median, there is a slightly bigger chance to have a low salary (since salaries with exactly the median value get put into the low salary category)."
   ]
  },
  {
   "cell_type": "code",
   "execution_count": 23,
   "metadata": {
    "collapsed": false,
    "focus": false,
    "id": "ddbc6159-6854-4ca7-857f-bfecdaf6d9c2"
   },
   "outputs": [
    {
     "name": "stdout",
     "output_type": "stream",
     "text": [
      "Warning: Maximum number of iterations has been exceeded.\n",
      "         Current function value: 0.550270\n",
      "         Iterations: 35\n"
     ]
    },
    {
     "name": "stderr",
     "output_type": "stream",
     "text": [
      "/Users/vincentbolwerk/anaconda/lib/python2.7/site-packages/statsmodels/base/model.py:466: ConvergenceWarning: Maximum Likelihood optimization failed to converge. Check mle_retvals\n",
      "  \"Check mle_retvals\", ConvergenceWarning)\n"
     ]
    },
    {
     "data": {
      "text/html": [
       "<table class=\"simpletable\">\n",
       "<caption>Logit Regression Results</caption>\n",
       "<tr>\n",
       "  <th>Dep. Variable:</th>    <td>high_salary</td>   <th>  No. Observations:  </th>  <td>   261</td>  \n",
       "</tr>\n",
       "<tr>\n",
       "  <th>Model:</th>               <td>Logit</td>      <th>  Df Residuals:      </th>  <td>   245</td>  \n",
       "</tr>\n",
       "<tr>\n",
       "  <th>Method:</th>               <td>MLE</td>       <th>  Df Model:          </th>  <td>    15</td>  \n",
       "</tr>\n",
       "<tr>\n",
       "  <th>Date:</th>          <td>Sun, 22 Jan 2017</td> <th>  Pseudo R-squ.:     </th>  <td>0.2059</td>  \n",
       "</tr>\n",
       "<tr>\n",
       "  <th>Time:</th>              <td>21:05:34</td>     <th>  Log-Likelihood:    </th> <td> -143.62</td> \n",
       "</tr>\n",
       "<tr>\n",
       "  <th>converged:</th>           <td>False</td>      <th>  LL-Null:           </th> <td> -180.86</td> \n",
       "</tr>\n",
       "<tr>\n",
       "  <th> </th>                      <td> </td>        <th>  LLR p-value:       </th> <td>7.010e-10</td>\n",
       "</tr>\n",
       "</table>\n",
       "<table class=\"simpletable\">\n",
       "<tr>\n",
       "              <td></td>                <th>coef</th>     <th>std err</th>      <th>z</th>      <th>P>|z|</th> <th>[95.0% Conf. Int.]</th> \n",
       "</tr>\n",
       "<tr>\n",
       "  <th>Intercept</th>                <td>   -1.2528</td> <td>    0.567</td> <td>   -2.210</td> <td> 0.027</td> <td>   -2.364    -0.142</td>\n",
       "</tr>\n",
       "<tr>\n",
       "  <th>Location[T.Atlanta]</th>      <td>    0.1542</td> <td>    0.767</td> <td>    0.201</td> <td> 0.841</td> <td>   -1.349     1.657</td>\n",
       "</tr>\n",
       "<tr>\n",
       "  <th>Location[T.Austin]</th>       <td>    0.7419</td> <td>    0.925</td> <td>    0.802</td> <td> 0.422</td> <td>   -1.070     2.554</td>\n",
       "</tr>\n",
       "<tr>\n",
       "  <th>Location[T.Boston]</th>       <td>    1.4069</td> <td>    0.690</td> <td>    2.039</td> <td> 0.041</td> <td>    0.054     2.759</td>\n",
       "</tr>\n",
       "<tr>\n",
       "  <th>Location[T.Chicago]</th>      <td>    1.4759</td> <td>    0.687</td> <td>    2.150</td> <td> 0.032</td> <td>    0.130     2.822</td>\n",
       "</tr>\n",
       "<tr>\n",
       "  <th>Location[T.Dallas]</th>       <td>   -0.1335</td> <td>    1.254</td> <td>   -0.107</td> <td> 0.915</td> <td>   -2.590     2.323</td>\n",
       "</tr>\n",
       "<tr>\n",
       "  <th>Location[T.Denver]</th>       <td>   -0.6931</td> <td>    1.210</td> <td>   -0.573</td> <td> 0.567</td> <td>   -3.065     1.679</td>\n",
       "</tr>\n",
       "<tr>\n",
       "  <th>Location[T.Francisco]</th>    <td>   24.2105</td> <td> 2.16e+04</td> <td>    0.001</td> <td> 0.999</td> <td>-4.23e+04  4.24e+04</td>\n",
       "</tr>\n",
       "<tr>\n",
       "  <th>Location[T.Houston]</th>      <td>    0.1542</td> <td>    0.994</td> <td>    0.155</td> <td> 0.877</td> <td>   -1.794     2.102</td>\n",
       "</tr>\n",
       "<tr>\n",
       "  <th>Location[T.Miami]</th>        <td>  -20.8886</td> <td> 3.71e+04</td> <td>   -0.001</td> <td> 1.000</td> <td>-7.27e+04  7.27e+04</td>\n",
       "</tr>\n",
       "<tr>\n",
       "  <th>Location[T.Philadelphia]</th> <td>    1.4351</td> <td>    0.830</td> <td>    1.730</td> <td> 0.084</td> <td>   -0.191     3.061</td>\n",
       "</tr>\n",
       "<tr>\n",
       "  <th>Location[T.Phoenix]</th>      <td>    0.1542</td> <td>    0.875</td> <td>    0.176</td> <td> 0.860</td> <td>   -1.561     1.869</td>\n",
       "</tr>\n",
       "<tr>\n",
       "  <th>Location[T.Pittsburgh]</th>   <td>  -52.7460</td> <td> 2.38e+11</td> <td>-2.22e-10</td> <td> 1.000</td> <td>-4.66e+11  4.66e+11</td>\n",
       "</tr>\n",
       "<tr>\n",
       "  <th>Location[T.Portland]</th>     <td>  -20.8886</td> <td> 3.71e+04</td> <td>   -0.001</td> <td> 1.000</td> <td>-7.27e+04  7.27e+04</td>\n",
       "</tr>\n",
       "<tr>\n",
       "  <th>Location[T.Seattle]</th>      <td>    3.0445</td> <td>    1.220</td> <td>    2.496</td> <td> 0.013</td> <td>    0.654     5.435</td>\n",
       "</tr>\n",
       "<tr>\n",
       "  <th>Location[T.York]</th>         <td>    1.6582</td> <td>    0.611</td> <td>    2.713</td> <td> 0.007</td> <td>    0.460     2.856</td>\n",
       "</tr>\n",
       "</table>"
      ],
      "text/plain": [
       "<class 'statsmodels.iolib.summary.Summary'>\n",
       "\"\"\"\n",
       "                           Logit Regression Results                           \n",
       "==============================================================================\n",
       "Dep. Variable:            high_salary   No. Observations:                  261\n",
       "Model:                          Logit   Df Residuals:                      245\n",
       "Method:                           MLE   Df Model:                           15\n",
       "Date:                Sun, 22 Jan 2017   Pseudo R-squ.:                  0.2059\n",
       "Time:                        21:05:34   Log-Likelihood:                -143.62\n",
       "converged:                      False   LL-Null:                       -180.86\n",
       "                                        LLR p-value:                 7.010e-10\n",
       "============================================================================================\n",
       "                               coef    std err          z      P>|z|      [95.0% Conf. Int.]\n",
       "--------------------------------------------------------------------------------------------\n",
       "Intercept                   -1.2528      0.567     -2.210      0.027        -2.364    -0.142\n",
       "Location[T.Atlanta]          0.1542      0.767      0.201      0.841        -1.349     1.657\n",
       "Location[T.Austin]           0.7419      0.925      0.802      0.422        -1.070     2.554\n",
       "Location[T.Boston]           1.4069      0.690      2.039      0.041         0.054     2.759\n",
       "Location[T.Chicago]          1.4759      0.687      2.150      0.032         0.130     2.822\n",
       "Location[T.Dallas]          -0.1335      1.254     -0.107      0.915        -2.590     2.323\n",
       "Location[T.Denver]          -0.6931      1.210     -0.573      0.567        -3.065     1.679\n",
       "Location[T.Francisco]       24.2105   2.16e+04      0.001      0.999     -4.23e+04  4.24e+04\n",
       "Location[T.Houston]          0.1542      0.994      0.155      0.877        -1.794     2.102\n",
       "Location[T.Miami]          -20.8886   3.71e+04     -0.001      1.000     -7.27e+04  7.27e+04\n",
       "Location[T.Philadelphia]     1.4351      0.830      1.730      0.084        -0.191     3.061\n",
       "Location[T.Phoenix]          0.1542      0.875      0.176      0.860        -1.561     1.869\n",
       "Location[T.Pittsburgh]     -52.7460   2.38e+11  -2.22e-10      1.000     -4.66e+11  4.66e+11\n",
       "Location[T.Portland]       -20.8886   3.71e+04     -0.001      1.000     -7.27e+04  7.27e+04\n",
       "Location[T.Seattle]          3.0445      1.220      2.496      0.013         0.654     5.435\n",
       "Location[T.York]             1.6582      0.611      2.713      0.007         0.460     2.856\n",
       "============================================================================================\n",
       "\"\"\""
      ]
     },
     "execution_count": 23,
     "metadata": {},
     "output_type": "execute_result"
    }
   ],
   "source": [
    "model1 = smf.logit(formula=\"high_salary ~ Location\", data = df).fit() \n",
    "model1.summary() "
   ]
  },
  {
   "cell_type": "markdown",
   "metadata": {},
   "source": [
    "As can be seen from the logit regression above, the probability of getting a salary above or below the median is dependent on the location of the job title. When looking at the statistically significant p-values at the 5%-level, it is interesting to see that all significant effects are positive (the most significant seem to be New York and Seattle). The fact that most of the locations have a positive effect on the probability of a high salary can be explained by the fact that the intercept is negative. "
   ]
  },
  {
   "cell_type": "markdown",
   "metadata": {
    "focus": false,
    "id": "0ef04f32-419c-4bf2-baf7-48201f03df89"
   },
   "source": [
    "A next step is to find if certain words in a job title have a predictive effect on salary."
   ]
  },
  {
   "cell_type": "code",
   "execution_count": 25,
   "metadata": {
    "collapsed": false
   },
   "outputs": [],
   "source": [
    "df['Job'] = df['Job'].map(lambda x: x.decode('utf-8'))"
   ]
  },
  {
   "cell_type": "code",
   "execution_count": 26,
   "metadata": {
    "collapsed": false
   },
   "outputs": [],
   "source": [
    "for i in df.index:\n",
    "    if 'Senior' in df.loc[i,'Job']:\n",
    "        df.loc[i,'Senior']=1\n",
    "    else:\n",
    "        df.loc[i, 'Senior']=0"
   ]
  },
  {
   "cell_type": "code",
   "execution_count": 27,
   "metadata": {
    "collapsed": true
   },
   "outputs": [],
   "source": [
    "for i in df.index:\n",
    "    if 'Manager' in df.loc[i,'Job']:\n",
    "        df.loc[i,'Manager']=1\n",
    "    else:\n",
    "        df.loc[i, 'Manager']=0"
   ]
  },
  {
   "cell_type": "code",
   "execution_count": 28,
   "metadata": {
    "collapsed": false
   },
   "outputs": [
    {
     "data": {
      "text/html": [
       "<div>\n",
       "<table border=\"1\" class=\"dataframe\">\n",
       "  <thead>\n",
       "    <tr style=\"text-align: right;\">\n",
       "      <th></th>\n",
       "      <th>Unnamed: 0</th>\n",
       "      <th>Company</th>\n",
       "      <th>Job</th>\n",
       "      <th>Location</th>\n",
       "      <th>Sal_avg</th>\n",
       "      <th>high_salary</th>\n",
       "      <th>Senior</th>\n",
       "      <th>Manager</th>\n",
       "    </tr>\n",
       "  </thead>\n",
       "  <tbody>\n",
       "    <tr>\n",
       "      <th>0</th>\n",
       "      <td>30</td>\n",
       "      <td>S.C. International</td>\n",
       "      <td>Statistical Analyst -- Health-7444 - 7444</td>\n",
       "      <td>Chicago</td>\n",
       "      <td>80000</td>\n",
       "      <td>0.0</td>\n",
       "      <td>0.0</td>\n",
       "      <td>0.0</td>\n",
       "    </tr>\n",
       "    <tr>\n",
       "      <th>1</th>\n",
       "      <td>88</td>\n",
       "      <td>Workbridge Associates</td>\n",
       "      <td>Senior Data Scientist (H20, Python, and R)</td>\n",
       "      <td>Chicago</td>\n",
       "      <td>132500</td>\n",
       "      <td>1.0</td>\n",
       "      <td>1.0</td>\n",
       "      <td>0.0</td>\n",
       "    </tr>\n",
       "    <tr>\n",
       "      <th>2</th>\n",
       "      <td>95</td>\n",
       "      <td>Workbridge Associates</td>\n",
       "      <td>Data Scientist (Healthcare Data)</td>\n",
       "      <td>Chicago</td>\n",
       "      <td>110000</td>\n",
       "      <td>1.0</td>\n",
       "      <td>0.0</td>\n",
       "      <td>0.0</td>\n",
       "    </tr>\n",
       "    <tr>\n",
       "      <th>3</th>\n",
       "      <td>103</td>\n",
       "      <td>Jobspring Partners</td>\n",
       "      <td>Quality Engineer (Big Data)</td>\n",
       "      <td>Chicago</td>\n",
       "      <td>87500</td>\n",
       "      <td>0.0</td>\n",
       "      <td>0.0</td>\n",
       "      <td>0.0</td>\n",
       "    </tr>\n",
       "    <tr>\n",
       "      <th>4</th>\n",
       "      <td>114</td>\n",
       "      <td>Analytic Recruiting</td>\n",
       "      <td>Manager / Director of Predictive Modeling</td>\n",
       "      <td>Chicago</td>\n",
       "      <td>115000</td>\n",
       "      <td>1.0</td>\n",
       "      <td>0.0</td>\n",
       "      <td>1.0</td>\n",
       "    </tr>\n",
       "  </tbody>\n",
       "</table>\n",
       "</div>"
      ],
      "text/plain": [
       "   Unnamed: 0                Company  \\\n",
       "0          30     S.C. International   \n",
       "1          88  Workbridge Associates   \n",
       "2          95  Workbridge Associates   \n",
       "3         103     Jobspring Partners   \n",
       "4         114    Analytic Recruiting   \n",
       "\n",
       "                                          Job Location  Sal_avg  high_salary  \\\n",
       "0   Statistical Analyst -- Health-7444 - 7444  Chicago    80000          0.0   \n",
       "1  Senior Data Scientist (H20, Python, and R)  Chicago   132500          1.0   \n",
       "2            Data Scientist (Healthcare Data)  Chicago   110000          1.0   \n",
       "3                 Quality Engineer (Big Data)  Chicago    87500          0.0   \n",
       "4   Manager / Director of Predictive Modeling  Chicago   115000          1.0   \n",
       "\n",
       "   Senior  Manager  \n",
       "0     0.0      0.0  \n",
       "1     1.0      0.0  \n",
       "2     0.0      0.0  \n",
       "3     0.0      0.0  \n",
       "4     0.0      1.0  "
      ]
     },
     "execution_count": 28,
     "metadata": {},
     "output_type": "execute_result"
    }
   ],
   "source": [
    "df.head()"
   ]
  },
  {
   "cell_type": "code",
   "execution_count": 29,
   "metadata": {
    "collapsed": false,
    "focus": false,
    "id": "068dc1cf-7fd7-4f27-a1f1-7f0a5a221d29"
   },
   "outputs": [
    {
     "name": "stdout",
     "output_type": "stream",
     "text": [
      "Warning: Maximum number of iterations has been exceeded.\n",
      "         Current function value: 0.543869\n",
      "         Iterations: 35\n"
     ]
    },
    {
     "name": "stderr",
     "output_type": "stream",
     "text": [
      "/Users/vincentbolwerk/anaconda/lib/python2.7/site-packages/statsmodels/base/model.py:466: ConvergenceWarning: Maximum Likelihood optimization failed to converge. Check mle_retvals\n",
      "  \"Check mle_retvals\", ConvergenceWarning)\n"
     ]
    },
    {
     "data": {
      "text/html": [
       "<table class=\"simpletable\">\n",
       "<caption>Logit Regression Results</caption>\n",
       "<tr>\n",
       "  <th>Dep. Variable:</th>    <td>high_salary</td>   <th>  No. Observations:  </th>  <td>   261</td>  \n",
       "</tr>\n",
       "<tr>\n",
       "  <th>Model:</th>               <td>Logit</td>      <th>  Df Residuals:      </th>  <td>   243</td>  \n",
       "</tr>\n",
       "<tr>\n",
       "  <th>Method:</th>               <td>MLE</td>       <th>  Df Model:          </th>  <td>    17</td>  \n",
       "</tr>\n",
       "<tr>\n",
       "  <th>Date:</th>          <td>Sun, 22 Jan 2017</td> <th>  Pseudo R-squ.:     </th>  <td>0.2152</td>  \n",
       "</tr>\n",
       "<tr>\n",
       "  <th>Time:</th>              <td>21:12:32</td>     <th>  Log-Likelihood:    </th> <td> -141.95</td> \n",
       "</tr>\n",
       "<tr>\n",
       "  <th>converged:</th>           <td>False</td>      <th>  LL-Null:           </th> <td> -180.86</td> \n",
       "</tr>\n",
       "<tr>\n",
       "  <th> </th>                      <td> </td>        <th>  LLR p-value:       </th> <td>9.300e-10</td>\n",
       "</tr>\n",
       "</table>\n",
       "<table class=\"simpletable\">\n",
       "<tr>\n",
       "              <td></td>                <th>coef</th>     <th>std err</th>      <th>z</th>      <th>P>|z|</th> <th>[95.0% Conf. Int.]</th> \n",
       "</tr>\n",
       "<tr>\n",
       "  <th>Intercept</th>                <td>   -1.3559</td> <td>    0.575</td> <td>   -2.359</td> <td> 0.018</td> <td>   -2.482    -0.229</td>\n",
       "</tr>\n",
       "<tr>\n",
       "  <th>Location[T.Atlanta]</th>      <td>    0.2116</td> <td>    0.772</td> <td>    0.274</td> <td> 0.784</td> <td>   -1.301     1.725</td>\n",
       "</tr>\n",
       "<tr>\n",
       "  <th>Location[T.Austin]</th>       <td>    0.6379</td> <td>    0.937</td> <td>    0.681</td> <td> 0.496</td> <td>   -1.198     2.474</td>\n",
       "</tr>\n",
       "<tr>\n",
       "  <th>Location[T.Boston]</th>       <td>    1.3249</td> <td>    0.697</td> <td>    1.900</td> <td> 0.057</td> <td>   -0.042     2.692</td>\n",
       "</tr>\n",
       "<tr>\n",
       "  <th>Location[T.Chicago]</th>      <td>    1.5141</td> <td>    0.693</td> <td>    2.186</td> <td> 0.029</td> <td>    0.157     2.871</td>\n",
       "</tr>\n",
       "<tr>\n",
       "  <th>Location[T.Dallas]</th>       <td>   -0.2165</td> <td>    1.267</td> <td>   -0.171</td> <td> 0.864</td> <td>   -2.699     2.266</td>\n",
       "</tr>\n",
       "<tr>\n",
       "  <th>Location[T.Denver]</th>       <td>   -0.6733</td> <td>    1.236</td> <td>   -0.545</td> <td> 0.586</td> <td>   -3.095     1.749</td>\n",
       "</tr>\n",
       "<tr>\n",
       "  <th>Location[T.Francisco]</th>    <td>   27.5351</td> <td> 1.18e+05</td> <td>    0.000</td> <td> 1.000</td> <td>-2.32e+05  2.32e+05</td>\n",
       "</tr>\n",
       "<tr>\n",
       "  <th>Location[T.Houston]</th>      <td>    0.0338</td> <td>    1.008</td> <td>    0.034</td> <td> 0.973</td> <td>   -1.941     2.009</td>\n",
       "</tr>\n",
       "<tr>\n",
       "  <th>Location[T.Miami]</th>        <td>  -20.7823</td> <td>  3.7e+04</td> <td>   -0.001</td> <td> 1.000</td> <td>-7.26e+04  7.26e+04</td>\n",
       "</tr>\n",
       "<tr>\n",
       "  <th>Location[T.Philadelphia]</th> <td>    1.4034</td> <td>    0.837</td> <td>    1.677</td> <td> 0.094</td> <td>   -0.237     3.044</td>\n",
       "</tr>\n",
       "<tr>\n",
       "  <th>Location[T.Phoenix]</th>      <td>    0.1285</td> <td>    0.892</td> <td>    0.144</td> <td> 0.886</td> <td>   -1.621     1.878</td>\n",
       "</tr>\n",
       "<tr>\n",
       "  <th>Location[T.Pittsburgh]</th>   <td>  -18.7190</td> <td> 9190.774</td> <td>   -0.002</td> <td> 0.998</td> <td> -1.8e+04   1.8e+04</td>\n",
       "</tr>\n",
       "<tr>\n",
       "  <th>Location[T.Portland]</th>     <td>  -20.7823</td> <td>  3.7e+04</td> <td>   -0.001</td> <td> 1.000</td> <td>-7.26e+04  7.26e+04</td>\n",
       "</tr>\n",
       "<tr>\n",
       "  <th>Location[T.Seattle]</th>      <td>    3.1477</td> <td>    1.224</td> <td>    2.573</td> <td> 0.010</td> <td>    0.750     5.546</td>\n",
       "</tr>\n",
       "<tr>\n",
       "  <th>Location[T.York]</th>         <td>    1.6611</td> <td>    0.616</td> <td>    2.695</td> <td> 0.007</td> <td>    0.453     2.869</td>\n",
       "</tr>\n",
       "<tr>\n",
       "  <th>Manager</th>                  <td>    0.3065</td> <td>    0.783</td> <td>    0.391</td> <td> 0.695</td> <td>   -1.228     1.841</td>\n",
       "</tr>\n",
       "<tr>\n",
       "  <th>Senior</th>                   <td>    0.7840</td> <td>    0.442</td> <td>    1.773</td> <td> 0.076</td> <td>   -0.083     1.651</td>\n",
       "</tr>\n",
       "</table>"
      ],
      "text/plain": [
       "<class 'statsmodels.iolib.summary.Summary'>\n",
       "\"\"\"\n",
       "                           Logit Regression Results                           \n",
       "==============================================================================\n",
       "Dep. Variable:            high_salary   No. Observations:                  261\n",
       "Model:                          Logit   Df Residuals:                      243\n",
       "Method:                           MLE   Df Model:                           17\n",
       "Date:                Sun, 22 Jan 2017   Pseudo R-squ.:                  0.2152\n",
       "Time:                        21:12:32   Log-Likelihood:                -141.95\n",
       "converged:                      False   LL-Null:                       -180.86\n",
       "                                        LLR p-value:                 9.300e-10\n",
       "============================================================================================\n",
       "                               coef    std err          z      P>|z|      [95.0% Conf. Int.]\n",
       "--------------------------------------------------------------------------------------------\n",
       "Intercept                   -1.3559      0.575     -2.359      0.018        -2.482    -0.229\n",
       "Location[T.Atlanta]          0.2116      0.772      0.274      0.784        -1.301     1.725\n",
       "Location[T.Austin]           0.6379      0.937      0.681      0.496        -1.198     2.474\n",
       "Location[T.Boston]           1.3249      0.697      1.900      0.057        -0.042     2.692\n",
       "Location[T.Chicago]          1.5141      0.693      2.186      0.029         0.157     2.871\n",
       "Location[T.Dallas]          -0.2165      1.267     -0.171      0.864        -2.699     2.266\n",
       "Location[T.Denver]          -0.6733      1.236     -0.545      0.586        -3.095     1.749\n",
       "Location[T.Francisco]       27.5351   1.18e+05      0.000      1.000     -2.32e+05  2.32e+05\n",
       "Location[T.Houston]          0.0338      1.008      0.034      0.973        -1.941     2.009\n",
       "Location[T.Miami]          -20.7823    3.7e+04     -0.001      1.000     -7.26e+04  7.26e+04\n",
       "Location[T.Philadelphia]     1.4034      0.837      1.677      0.094        -0.237     3.044\n",
       "Location[T.Phoenix]          0.1285      0.892      0.144      0.886        -1.621     1.878\n",
       "Location[T.Pittsburgh]     -18.7190   9190.774     -0.002      0.998      -1.8e+04   1.8e+04\n",
       "Location[T.Portland]       -20.7823    3.7e+04     -0.001      1.000     -7.26e+04  7.26e+04\n",
       "Location[T.Seattle]          3.1477      1.224      2.573      0.010         0.750     5.546\n",
       "Location[T.York]             1.6611      0.616      2.695      0.007         0.453     2.869\n",
       "Manager                      0.3065      0.783      0.391      0.695        -1.228     1.841\n",
       "Senior                       0.7840      0.442      1.773      0.076        -0.083     1.651\n",
       "============================================================================================\n",
       "\"\"\""
      ]
     },
     "execution_count": 29,
     "metadata": {},
     "output_type": "execute_result"
    }
   ],
   "source": [
    "model2 = smf.logit(formula=\"high_salary ~ Location+ Manager + Senior\", data = df).fit() \n",
    "model2.summary() "
   ]
  },
  {
   "cell_type": "markdown",
   "metadata": {
    "collapsed": false
   },
   "source": [
    "As can be seen from the regression results above, only the word 'Senior' in the job title seems to have a statistically significant positive effect at the 10%-level, whereas the word 'Manager' in the job title does not. Using the word 'Senior' thus does provide some additional explanatory power to our model."
   ]
  },
  {
   "cell_type": "code",
   "execution_count": 30,
   "metadata": {
    "collapsed": false
   },
   "outputs": [],
   "source": [
    "df = pd.concat([df, pd.get_dummies(df['Location'])], axis=1)"
   ]
  },
  {
   "cell_type": "code",
   "execution_count": 31,
   "metadata": {
    "collapsed": false
   },
   "outputs": [
    {
     "data": {
      "text/html": [
       "<div>\n",
       "<table border=\"1\" class=\"dataframe\">\n",
       "  <thead>\n",
       "    <tr style=\"text-align: right;\">\n",
       "      <th></th>\n",
       "      <th>Unnamed: 0</th>\n",
       "      <th>Company</th>\n",
       "      <th>Job</th>\n",
       "      <th>Location</th>\n",
       "      <th>Sal_avg</th>\n",
       "      <th>high_salary</th>\n",
       "      <th>Senior</th>\n",
       "      <th>Manager</th>\n",
       "      <th>Angeles</th>\n",
       "      <th>Atlanta</th>\n",
       "      <th>...</th>\n",
       "      <th>Denver</th>\n",
       "      <th>Francisco</th>\n",
       "      <th>Houston</th>\n",
       "      <th>Miami</th>\n",
       "      <th>Philadelphia</th>\n",
       "      <th>Phoenix</th>\n",
       "      <th>Pittsburgh</th>\n",
       "      <th>Portland</th>\n",
       "      <th>Seattle</th>\n",
       "      <th>York</th>\n",
       "    </tr>\n",
       "  </thead>\n",
       "  <tbody>\n",
       "    <tr>\n",
       "      <th>0</th>\n",
       "      <td>30</td>\n",
       "      <td>S.C. International</td>\n",
       "      <td>Statistical Analyst -- Health-7444 - 7444</td>\n",
       "      <td>Chicago</td>\n",
       "      <td>80000</td>\n",
       "      <td>0.0</td>\n",
       "      <td>0.0</td>\n",
       "      <td>0.0</td>\n",
       "      <td>0.0</td>\n",
       "      <td>0.0</td>\n",
       "      <td>...</td>\n",
       "      <td>0.0</td>\n",
       "      <td>0.0</td>\n",
       "      <td>0.0</td>\n",
       "      <td>0.0</td>\n",
       "      <td>0.0</td>\n",
       "      <td>0.0</td>\n",
       "      <td>0.0</td>\n",
       "      <td>0.0</td>\n",
       "      <td>0.0</td>\n",
       "      <td>0.0</td>\n",
       "    </tr>\n",
       "    <tr>\n",
       "      <th>1</th>\n",
       "      <td>88</td>\n",
       "      <td>Workbridge Associates</td>\n",
       "      <td>Senior Data Scientist (H20, Python, and R)</td>\n",
       "      <td>Chicago</td>\n",
       "      <td>132500</td>\n",
       "      <td>1.0</td>\n",
       "      <td>1.0</td>\n",
       "      <td>0.0</td>\n",
       "      <td>0.0</td>\n",
       "      <td>0.0</td>\n",
       "      <td>...</td>\n",
       "      <td>0.0</td>\n",
       "      <td>0.0</td>\n",
       "      <td>0.0</td>\n",
       "      <td>0.0</td>\n",
       "      <td>0.0</td>\n",
       "      <td>0.0</td>\n",
       "      <td>0.0</td>\n",
       "      <td>0.0</td>\n",
       "      <td>0.0</td>\n",
       "      <td>0.0</td>\n",
       "    </tr>\n",
       "    <tr>\n",
       "      <th>2</th>\n",
       "      <td>95</td>\n",
       "      <td>Workbridge Associates</td>\n",
       "      <td>Data Scientist (Healthcare Data)</td>\n",
       "      <td>Chicago</td>\n",
       "      <td>110000</td>\n",
       "      <td>1.0</td>\n",
       "      <td>0.0</td>\n",
       "      <td>0.0</td>\n",
       "      <td>0.0</td>\n",
       "      <td>0.0</td>\n",
       "      <td>...</td>\n",
       "      <td>0.0</td>\n",
       "      <td>0.0</td>\n",
       "      <td>0.0</td>\n",
       "      <td>0.0</td>\n",
       "      <td>0.0</td>\n",
       "      <td>0.0</td>\n",
       "      <td>0.0</td>\n",
       "      <td>0.0</td>\n",
       "      <td>0.0</td>\n",
       "      <td>0.0</td>\n",
       "    </tr>\n",
       "    <tr>\n",
       "      <th>3</th>\n",
       "      <td>103</td>\n",
       "      <td>Jobspring Partners</td>\n",
       "      <td>Quality Engineer (Big Data)</td>\n",
       "      <td>Chicago</td>\n",
       "      <td>87500</td>\n",
       "      <td>0.0</td>\n",
       "      <td>0.0</td>\n",
       "      <td>0.0</td>\n",
       "      <td>0.0</td>\n",
       "      <td>0.0</td>\n",
       "      <td>...</td>\n",
       "      <td>0.0</td>\n",
       "      <td>0.0</td>\n",
       "      <td>0.0</td>\n",
       "      <td>0.0</td>\n",
       "      <td>0.0</td>\n",
       "      <td>0.0</td>\n",
       "      <td>0.0</td>\n",
       "      <td>0.0</td>\n",
       "      <td>0.0</td>\n",
       "      <td>0.0</td>\n",
       "    </tr>\n",
       "    <tr>\n",
       "      <th>4</th>\n",
       "      <td>114</td>\n",
       "      <td>Analytic Recruiting</td>\n",
       "      <td>Manager / Director of Predictive Modeling</td>\n",
       "      <td>Chicago</td>\n",
       "      <td>115000</td>\n",
       "      <td>1.0</td>\n",
       "      <td>0.0</td>\n",
       "      <td>1.0</td>\n",
       "      <td>0.0</td>\n",
       "      <td>0.0</td>\n",
       "      <td>...</td>\n",
       "      <td>0.0</td>\n",
       "      <td>0.0</td>\n",
       "      <td>0.0</td>\n",
       "      <td>0.0</td>\n",
       "      <td>0.0</td>\n",
       "      <td>0.0</td>\n",
       "      <td>0.0</td>\n",
       "      <td>0.0</td>\n",
       "      <td>0.0</td>\n",
       "      <td>0.0</td>\n",
       "    </tr>\n",
       "  </tbody>\n",
       "</table>\n",
       "<p>5 rows × 24 columns</p>\n",
       "</div>"
      ],
      "text/plain": [
       "   Unnamed: 0                Company  \\\n",
       "0          30     S.C. International   \n",
       "1          88  Workbridge Associates   \n",
       "2          95  Workbridge Associates   \n",
       "3         103     Jobspring Partners   \n",
       "4         114    Analytic Recruiting   \n",
       "\n",
       "                                          Job Location  Sal_avg  high_salary  \\\n",
       "0   Statistical Analyst -- Health-7444 - 7444  Chicago    80000          0.0   \n",
       "1  Senior Data Scientist (H20, Python, and R)  Chicago   132500          1.0   \n",
       "2            Data Scientist (Healthcare Data)  Chicago   110000          1.0   \n",
       "3                 Quality Engineer (Big Data)  Chicago    87500          0.0   \n",
       "4   Manager / Director of Predictive Modeling  Chicago   115000          1.0   \n",
       "\n",
       "   Senior  Manager  Angeles  Atlanta  ...   Denver  Francisco  Houston  Miami  \\\n",
       "0     0.0      0.0      0.0      0.0  ...      0.0        0.0      0.0    0.0   \n",
       "1     1.0      0.0      0.0      0.0  ...      0.0        0.0      0.0    0.0   \n",
       "2     0.0      0.0      0.0      0.0  ...      0.0        0.0      0.0    0.0   \n",
       "3     0.0      0.0      0.0      0.0  ...      0.0        0.0      0.0    0.0   \n",
       "4     0.0      1.0      0.0      0.0  ...      0.0        0.0      0.0    0.0   \n",
       "\n",
       "   Philadelphia  Phoenix  Pittsburgh  Portland  Seattle  York  \n",
       "0           0.0      0.0         0.0       0.0      0.0   0.0  \n",
       "1           0.0      0.0         0.0       0.0      0.0   0.0  \n",
       "2           0.0      0.0         0.0       0.0      0.0   0.0  \n",
       "3           0.0      0.0         0.0       0.0      0.0   0.0  \n",
       "4           0.0      0.0         0.0       0.0      0.0   0.0  \n",
       "\n",
       "[5 rows x 24 columns]"
      ]
     },
     "execution_count": 31,
     "metadata": {},
     "output_type": "execute_result"
    }
   ],
   "source": [
    "df.head()"
   ]
  },
  {
   "cell_type": "markdown",
   "metadata": {
    "focus": false,
    "id": "9367beff-72ba-4768-a0ba-a50b335de61d"
   },
   "source": [
    "Now, I try to set up the same model using sci-kit learn, using a simple logistic regression."
   ]
  },
  {
   "cell_type": "code",
   "execution_count": 32,
   "metadata": {
    "collapsed": false,
    "focus": false,
    "id": "269b9e7c-60b5-4a06-8255-881d7395bc1b"
   },
   "outputs": [
    {
     "name": "stdout",
     "output_type": "stream",
     "text": [
      "0.689655172414\n",
      "0.386973180077\n"
     ]
    },
    {
     "name": "stderr",
     "output_type": "stream",
     "text": [
      "/Users/vincentbolwerk/anaconda/lib/python2.7/site-packages/sklearn/cross_validation.py:44: DeprecationWarning: This module was deprecated in version 0.18 in favor of the model_selection module into which all the refactored classes and functions are moved. Also note that the interface of the new CV iterators are different from that of this module. This module will be removed in 0.20.\n",
      "  \"This module will be removed in 0.20.\", DeprecationWarning)\n"
     ]
    }
   ],
   "source": [
    "X = pd.DataFrame(df.loc[:, 'Senior':])\n",
    "y = df['high_salary']\n",
    "from sklearn.linear_model import LogisticRegression\n",
    "from sklearn.cross_validation import cross_val_score\n",
    "\n",
    "model = LogisticRegression() \n",
    "\n",
    "model.fit(X,y)\n",
    "print model.score(X,y)\n",
    "\n",
    "print cross_val_score(model, X,y).mean()"
   ]
  },
  {
   "cell_type": "markdown",
   "metadata": {},
   "source": [
    "The model seems to overfit quite dramatically, which leads to poor performance when having a cross-validated score. Perhaps doing a Gridsearch while adding a penalty function will improve the performance."
   ]
  },
  {
   "cell_type": "code",
   "execution_count": 33,
   "metadata": {
    "collapsed": false
   },
   "outputs": [
    {
     "name": "stdout",
     "output_type": "stream",
     "text": [
      "Score: 0.651282051282\n",
      "Best parameters: {'penalty': 'l2', 'C': 0.01}\n"
     ]
    }
   ],
   "source": [
    "from sklearn.model_selection import GridSearchCV\n",
    "params = {'C': [0.01, 0.1, 1, 10, 100], 'penalty':['l1', 'l2']}\n",
    "logreg_cv = GridSearchCV(model, param_grid=params, cv=5)\n",
    "\n",
    "from sklearn.model_selection import train_test_split\n",
    "X_train, X_test, y_train, y_test = train_test_split(X,y, test_size = 0.25, random_state=42)\n",
    "\n",
    "logreg_cv.fit(X_train,y_train)\n",
    "print 'Score: ' + str(logreg_cv.best_score_)\n",
    "print 'Best parameters: '+ str(logreg_cv.best_params_)"
   ]
  },
  {
   "cell_type": "markdown",
   "metadata": {},
   "source": [
    "When doing a Grid search, the cross-validated performance of the model becomes much better. The penalty function included avoids the problem of overfitting. I use these parameters to train the model and to make predictions using the test set, which is unseen data for the model. First I examine the coefficients for the model, however."
   ]
  },
  {
   "cell_type": "code",
   "execution_count": 34,
   "metadata": {
    "collapsed": false
   },
   "outputs": [],
   "source": [
    "logreg = LogisticRegression(penalty= 'l2', C= 0.01).fit(X_train, y_train)"
   ]
  },
  {
   "cell_type": "code",
   "execution_count": 35,
   "metadata": {
    "collapsed": false
   },
   "outputs": [],
   "source": [
    "def examine_coefficients(model, df):\n",
    "    df = pd.DataFrame(\n",
    "        { 'Coefficient' : model.coef_[0] , 'Feature' : df.columns}\n",
    "    ).sort_values(by='Coefficient')\n",
    "    return df[df.Coefficient !=0 ]"
   ]
  },
  {
   "cell_type": "code",
   "execution_count": 36,
   "metadata": {
    "collapsed": false
   },
   "outputs": [
    {
     "data": {
      "text/html": [
       "<div>\n",
       "<table border=\"1\" class=\"dataframe\">\n",
       "  <thead>\n",
       "    <tr style=\"text-align: right;\">\n",
       "      <th></th>\n",
       "      <th>Coefficient</th>\n",
       "      <th>Feature</th>\n",
       "    </tr>\n",
       "  </thead>\n",
       "  <tbody>\n",
       "    <tr>\n",
       "      <th>8</th>\n",
       "      <td>-0.033705</td>\n",
       "      <td>Denver</td>\n",
       "    </tr>\n",
       "    <tr>\n",
       "      <th>2</th>\n",
       "      <td>-0.027829</td>\n",
       "      <td>Angeles</td>\n",
       "    </tr>\n",
       "    <tr>\n",
       "      <th>14</th>\n",
       "      <td>-0.024344</td>\n",
       "      <td>Pittsburgh</td>\n",
       "    </tr>\n",
       "    <tr>\n",
       "      <th>3</th>\n",
       "      <td>-0.023144</td>\n",
       "      <td>Atlanta</td>\n",
       "    </tr>\n",
       "    <tr>\n",
       "      <th>13</th>\n",
       "      <td>-0.018964</td>\n",
       "      <td>Phoenix</td>\n",
       "    </tr>\n",
       "    <tr>\n",
       "      <th>15</th>\n",
       "      <td>-0.014608</td>\n",
       "      <td>Portland</td>\n",
       "    </tr>\n",
       "    <tr>\n",
       "      <th>11</th>\n",
       "      <td>-0.014608</td>\n",
       "      <td>Miami</td>\n",
       "    </tr>\n",
       "    <tr>\n",
       "      <th>7</th>\n",
       "      <td>-0.009528</td>\n",
       "      <td>Dallas</td>\n",
       "    </tr>\n",
       "    <tr>\n",
       "      <th>1</th>\n",
       "      <td>-0.009316</td>\n",
       "      <td>Manager</td>\n",
       "    </tr>\n",
       "    <tr>\n",
       "      <th>10</th>\n",
       "      <td>-0.004591</td>\n",
       "      <td>Houston</td>\n",
       "    </tr>\n",
       "    <tr>\n",
       "      <th>4</th>\n",
       "      <td>-0.004501</td>\n",
       "      <td>Austin</td>\n",
       "    </tr>\n",
       "    <tr>\n",
       "      <th>12</th>\n",
       "      <td>0.000621</td>\n",
       "      <td>Philadelphia</td>\n",
       "    </tr>\n",
       "    <tr>\n",
       "      <th>6</th>\n",
       "      <td>0.001415</td>\n",
       "      <td>Chicago</td>\n",
       "    </tr>\n",
       "    <tr>\n",
       "      <th>16</th>\n",
       "      <td>0.005243</td>\n",
       "      <td>Seattle</td>\n",
       "    </tr>\n",
       "    <tr>\n",
       "      <th>5</th>\n",
       "      <td>0.006196</td>\n",
       "      <td>Boston</td>\n",
       "    </tr>\n",
       "    <tr>\n",
       "      <th>0</th>\n",
       "      <td>0.047766</td>\n",
       "      <td>Senior</td>\n",
       "    </tr>\n",
       "    <tr>\n",
       "      <th>17</th>\n",
       "      <td>0.056113</td>\n",
       "      <td>York</td>\n",
       "    </tr>\n",
       "    <tr>\n",
       "      <th>9</th>\n",
       "      <td>0.068582</td>\n",
       "      <td>Francisco</td>\n",
       "    </tr>\n",
       "  </tbody>\n",
       "</table>\n",
       "</div>"
      ],
      "text/plain": [
       "    Coefficient       Feature\n",
       "8     -0.033705        Denver\n",
       "2     -0.027829       Angeles\n",
       "14    -0.024344    Pittsburgh\n",
       "3     -0.023144       Atlanta\n",
       "13    -0.018964       Phoenix\n",
       "15    -0.014608      Portland\n",
       "11    -0.014608         Miami\n",
       "7     -0.009528        Dallas\n",
       "1     -0.009316       Manager\n",
       "10    -0.004591       Houston\n",
       "4     -0.004501        Austin\n",
       "12     0.000621  Philadelphia\n",
       "6      0.001415       Chicago\n",
       "16     0.005243       Seattle\n",
       "5      0.006196        Boston\n",
       "0      0.047766        Senior\n",
       "17     0.056113          York\n",
       "9      0.068582     Francisco"
      ]
     },
     "execution_count": 36,
     "metadata": {},
     "output_type": "execute_result"
    }
   ],
   "source": [
    "examine_coefficients(logreg, X)"
   ]
  },
  {
   "cell_type": "markdown",
   "metadata": {},
   "source": [
    "The most important features in determining a data scientist's salary are the location of the job (where obviously working in San Francisco or New York has a positive impact on your salary). Next to that, being Senior is also an important factor in determining your future salary. Being a 'manager', however, seems to have a detrimental effect on your salary as a data scientist."
   ]
  },
  {
   "cell_type": "code",
   "execution_count": 37,
   "metadata": {
    "collapsed": false
   },
   "outputs": [
    {
     "name": "stdout",
     "output_type": "stream",
     "text": [
      "             precision    recall  f1-score   support\n",
      "\n",
      "        0.0       0.59      0.71      0.65        31\n",
      "        1.0       0.69      0.57      0.62        35\n",
      "\n",
      "avg / total       0.65      0.64      0.64        66\n",
      "\n"
     ]
    }
   ],
   "source": [
    "from sklearn.metrics import classification_report\n",
    "\n",
    "y_pred = logreg.predict(X_test)\n",
    "print(classification_report(y_test, y_pred))"
   ]
  },
  {
   "cell_type": "markdown",
   "metadata": {},
   "source": [
    "The model has quite a high precision in determining high salaries. This indicates that 69% of the overall positives that the model yields, are true positives. This could be a useful model for filtering out low salaries, so that 70% of the results the model generates are actually true positives (salaries over $105,000 per year)."
   ]
  },
  {
   "cell_type": "markdown",
   "metadata": {},
   "source": [
    "### Conclusion\n",
    "\n",
    "The values given by this model indicate that our model is an improvement of the baseline accuracy. The model achieves an accuracy of 65.1%, which is an improvement on the earlier accuracy of approximately 50%. However, it was very important to do cross-validation, and to add a penalty function to our logistic regression.\n",
    "\n",
    "The most important features in determining a data scientist's salary are the location of the job (where obviously working in San Francisco or New York has a positive impact on your salary). Next to that, being Senior is also an important factor in determining your future salary. Being a 'manager', however, seems to have a detrimental effect on your salary as a data scientist."
   ]
  }
 ],
 "metadata": {
  "anaconda-cloud": {},
  "kernelspec": {
   "display_name": "Python [default]",
   "language": "python",
   "name": "python2"
  },
  "language_info": {
   "codemirror_mode": {
    "name": "ipython",
    "version": 2
   },
   "file_extension": ".py",
   "mimetype": "text/x-python",
   "name": "python",
   "nbconvert_exporter": "python",
   "pygments_lexer": "ipython2",
   "version": "2.7.12"
  }
 },
 "nbformat": 4,
 "nbformat_minor": 0
}
