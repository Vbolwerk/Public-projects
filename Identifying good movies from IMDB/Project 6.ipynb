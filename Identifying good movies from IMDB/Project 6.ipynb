{
 "cells": [
  {
   "cell_type": "markdown",
   "metadata": {},
   "source": [
    "## Identifying good movies from IMDB "
   ]
  },
  {
   "cell_type": "markdown",
   "metadata": {},
   "source": [
    "This project will focus on identifying good movies from a random sample of movies from IMDB. The definition of a 'good movie' in this case depends on the IMDB rating of a movie. The threshold value for a good movie will be defined later in the project, as it depends on the distribution of movie ratings on IMDB. However, the aim will be to correctly identify the top 25% of movies. This project will be considered succesful if it increases the baseline accuracy of identifying good movies. \n",
    "\n",
    "As features, this project uses information that is independent of ratings to try and predict whether a movie will be succesful. An easy way to determine if a movie is good would be by looking at the reviews, but since these are only known after the movie is released (and correlate highly with movie ratings), this project tries to look at other features (such as the genre, whether or not the movie has a tagline, the actors, directors, and the outline of the plot).\n",
    "\n",
    "The project will use machine learning models such as decision trees and random forests to try to maximize the accuracy of the prediction of good movies using the features described earlier. "
   ]
  },
  {
   "cell_type": "code",
   "execution_count": null,
   "metadata": {
    "collapsed": true
   },
   "outputs": [],
   "source": [
    "import pandas as pd\n",
    "import numpy as np\n",
    "from imdbpie import Imdb"
   ]
  },
  {
   "cell_type": "markdown",
   "metadata": {},
   "source": []
  },
  {
   "cell_type": "code",
   "execution_count": null,
   "metadata": {
    "collapsed": true
   },
   "outputs": [],
   "source": [
    "imdb = Imdb()\n",
    "imdb = Imdb(anonymize=True)"
   ]
  },
  {
   "cell_type": "code",
   "execution_count": null,
   "metadata": {
    "collapsed": true
   },
   "outputs": [],
   "source": [
    "df = pd.DataFrame"
   ]
  },
  {
   "cell_type": "markdown",
   "metadata": {},
   "source": [
    "## Data collection"
   ]
  },
  {
   "cell_type": "markdown",
   "metadata": {},
   "source": [
    "To get a random sample, IMDB is scraped using a random ID generator. These ID's follow a pattern, in which higher ID values represent more recent additions to the database. More recent additions, however, tend to be TV episodes or TV shows. To get features efficiently, the first random integer only has a range of 0 to 4 (this means the probability of the ID corresponding with a movie is much higher, but the movies identified will tend to be older)."
   ]
  },
  {
   "cell_type": "code",
   "execution_count": null,
   "metadata": {
    "collapsed": false
   },
   "outputs": [],
   "source": [
    "#movie_count = 0 \n",
    "movie_count = 256\n",
    "# for i in range(10000):\n",
    "for i in range(2786, 10000):\n",
    "    id_ = 'tt'+str(0)+str(np.random.randint(0,4))+''.join([\"%s\" % np.random.randint(0, 9) for num in range(5)])\n",
    "    print id_\n",
    "    if imdb.title_exists(id_):\n",
    "        try:\n",
    "            title = imdb.get_title_by_id(id_)\n",
    "            if title.type=='feature':\n",
    "                if title.plot_outline!=None:\n",
    "                    df.loc[i,'rating']=title.rating\n",
    "                    df.loc[i,'title']=title.title\n",
    "                    df.loc[i,'year']=title.year\n",
    "                    for z in range(len(title.directors_summary)):\n",
    "                        df.loc[i, 'director'+str(z)]=str(title.directors_summary[z]).rsplit(\"'\")[1]\n",
    "                    df.loc[i, 'runtime']= title.runtime\n",
    "                    for y in range(len(title.genres)):\n",
    "                        df.loc[i, 'genres'+str(y)]=title.genres[y]\n",
    "                    for x in range(len(title.cast_summary)):\n",
    "                        df.loc[i, 'actor' +str(x)]= str(title.cast_summary[x]).rsplit(\"'\")[1]\n",
    "                    df.loc[i, 'tagline']= title.tagline\n",
    "                    df.loc[i, 'outline']= title.plot_outline\n",
    "                    movie_count+=1\n",
    "                    print movie_count\n",
    "                    if movie_count == 500:\n",
    "                        break\n",
    "                else:\n",
    "                    pass\n",
    "            else:\n",
    "                pass\n",
    "        except:\n",
    "            pass\n",
    "    \n",
    "print df"
   ]
  },
  {
   "cell_type": "markdown",
   "metadata": {},
   "source": [
    "We have scraped 515 features in the dataset, all of which are selected to have a plot outline. However, the dataframe info below shows that not all of the movies have ratings. The data will need some further cleaning."
   ]
  },
  {
   "cell_type": "code",
   "execution_count": null,
   "metadata": {
    "collapsed": false
   },
   "outputs": [],
   "source": [
    "df.info()"
   ]
  },
  {
   "cell_type": "code",
   "execution_count": null,
   "metadata": {
    "collapsed": false
   },
   "outputs": [],
   "source": [
    "df.to_csv('initial_scrape.csv', sep=';', encoding ='utf-8')"
   ]
  },
  {
   "cell_type": "code",
   "execution_count": 2,
   "metadata": {
    "collapsed": true
   },
   "outputs": [],
   "source": [
    "import pandas as pd\n",
    "import numpy as np\n",
    "from imdbpie import Imdb\n",
    "from __future__ import division"
   ]
  },
  {
   "cell_type": "code",
   "execution_count": 3,
   "metadata": {
    "collapsed": false
   },
   "outputs": [],
   "source": [
    "df = pd.read_csv('initial_scrape.csv', sep =';', encoding = 'utf-8')"
   ]
  },
  {
   "cell_type": "markdown",
   "metadata": {},
   "source": [
    "## Data cleaning"
   ]
  },
  {
   "cell_type": "code",
   "execution_count": 4,
   "metadata": {
    "collapsed": false
   },
   "outputs": [
    {
     "data": {
      "text/plain": [
       "Madrid en el año 2000                                 2\n",
       "Sette ore di violenza per una soluzione imprevista    2\n",
       "Wrony                                                 2\n",
       "The Far Frontier                                      1\n",
       "Any Place But Home                                    1\n",
       "Name: title, dtype: int64"
      ]
     },
     "execution_count": 4,
     "metadata": {},
     "output_type": "execute_result"
    }
   ],
   "source": [
    "(df['title'].value_counts()).head()"
   ]
  },
  {
   "cell_type": "markdown",
   "metadata": {},
   "source": [
    "We can also identify some duplicate values in our database, since there is some overlap caused by the random ID generator. We remove these duplicates."
   ]
  },
  {
   "cell_type": "code",
   "execution_count": 5,
   "metadata": {
    "collapsed": false
   },
   "outputs": [],
   "source": [
    "df = df.drop_duplicates('title')"
   ]
  },
  {
   "cell_type": "code",
   "execution_count": 6,
   "metadata": {
    "collapsed": false
   },
   "outputs": [
    {
     "data": {
      "text/plain": [
       "Mera Yaar Mera Dushman                  1\n",
       "Schwarz und weiß wie Tage und Nächte    1\n",
       "Any Place But Home                      1\n",
       "Rock You Sinners                        1\n",
       "The Child and the Soldier               1\n",
       "Name: title, dtype: int64"
      ]
     },
     "execution_count": 6,
     "metadata": {},
     "output_type": "execute_result"
    }
   ],
   "source": [
    "(df['title'].value_counts()).head()"
   ]
  },
  {
   "cell_type": "code",
   "execution_count": 7,
   "metadata": {
    "collapsed": false
   },
   "outputs": [],
   "source": [
    "df = df.drop('Unnamed: 0', axis=1)"
   ]
  },
  {
   "cell_type": "markdown",
   "metadata": {},
   "source": [
    "Rows that have missing values in the rating, runtime, or primary genre columns are dropped from the dataframe."
   ]
  },
  {
   "cell_type": "code",
   "execution_count": 8,
   "metadata": {
    "collapsed": false
   },
   "outputs": [],
   "source": [
    "df = df[pd.notnull(df['rating'])]\n",
    "df = df[pd.notnull(df['runtime'])]\n",
    "df = df[pd.notnull(df['genres0'])]"
   ]
  },
  {
   "cell_type": "code",
   "execution_count": 9,
   "metadata": {
    "collapsed": false
   },
   "outputs": [
    {
     "name": "stdout",
     "output_type": "stream",
     "text": [
      "<class 'pandas.core.frame.DataFrame'>\n",
      "Int64Index: 406 entries, 0 to 514\n",
      "Data columns (total 19 columns):\n",
      "rating       406 non-null float64\n",
      "title        406 non-null object\n",
      "year         406 non-null float64\n",
      "director0    406 non-null object\n",
      "runtime      406 non-null float64\n",
      "genres0      406 non-null object\n",
      "actor0       406 non-null object\n",
      "actor1       406 non-null object\n",
      "actor2       404 non-null object\n",
      "actor3       403 non-null object\n",
      "tagline      171 non-null object\n",
      "outline      406 non-null object\n",
      "genres1      242 non-null object\n",
      "genres2      110 non-null object\n",
      "genres3      50 non-null object\n",
      "director1    19 non-null object\n",
      "genres4      8 non-null object\n",
      "genres5      3 non-null object\n",
      "genres6      1 non-null object\n",
      "dtypes: float64(3), object(16)\n",
      "memory usage: 63.4+ KB\n"
     ]
    }
   ],
   "source": [
    "df.info()"
   ]
  },
  {
   "cell_type": "code",
   "execution_count": 10,
   "metadata": {
    "collapsed": false
   },
   "outputs": [
    {
     "data": {
      "text/html": [
       "<div>\n",
       "<table border=\"1\" class=\"dataframe\">\n",
       "  <thead>\n",
       "    <tr style=\"text-align: right;\">\n",
       "      <th></th>\n",
       "      <th>rating</th>\n",
       "      <th>year</th>\n",
       "      <th>runtime</th>\n",
       "    </tr>\n",
       "  </thead>\n",
       "  <tbody>\n",
       "    <tr>\n",
       "      <th>count</th>\n",
       "      <td>406.000000</td>\n",
       "      <td>406.000000</td>\n",
       "      <td>406.000000</td>\n",
       "    </tr>\n",
       "    <tr>\n",
       "      <th>mean</th>\n",
       "      <td>6.084729</td>\n",
       "      <td>1972.034483</td>\n",
       "      <td>5529.014778</td>\n",
       "    </tr>\n",
       "    <tr>\n",
       "      <th>std</th>\n",
       "      <td>1.225778</td>\n",
       "      <td>22.907518</td>\n",
       "      <td>1363.165711</td>\n",
       "    </tr>\n",
       "    <tr>\n",
       "      <th>min</th>\n",
       "      <td>1.500000</td>\n",
       "      <td>1914.000000</td>\n",
       "      <td>2820.000000</td>\n",
       "    </tr>\n",
       "    <tr>\n",
       "      <th>25%</th>\n",
       "      <td>5.400000</td>\n",
       "      <td>1955.000000</td>\n",
       "      <td>4740.000000</td>\n",
       "    </tr>\n",
       "    <tr>\n",
       "      <th>50%</th>\n",
       "      <td>6.300000</td>\n",
       "      <td>1974.000000</td>\n",
       "      <td>5460.000000</td>\n",
       "    </tr>\n",
       "    <tr>\n",
       "      <th>75%</th>\n",
       "      <td>6.900000</td>\n",
       "      <td>1994.000000</td>\n",
       "      <td>6000.000000</td>\n",
       "    </tr>\n",
       "    <tr>\n",
       "      <th>max</th>\n",
       "      <td>9.000000</td>\n",
       "      <td>2004.000000</td>\n",
       "      <td>12600.000000</td>\n",
       "    </tr>\n",
       "  </tbody>\n",
       "</table>\n",
       "</div>"
      ],
      "text/plain": [
       "           rating         year       runtime\n",
       "count  406.000000   406.000000    406.000000\n",
       "mean     6.084729  1972.034483   5529.014778\n",
       "std      1.225778    22.907518   1363.165711\n",
       "min      1.500000  1914.000000   2820.000000\n",
       "25%      5.400000  1955.000000   4740.000000\n",
       "50%      6.300000  1974.000000   5460.000000\n",
       "75%      6.900000  1994.000000   6000.000000\n",
       "max      9.000000  2004.000000  12600.000000"
      ]
     },
     "execution_count": 10,
     "metadata": {},
     "output_type": "execute_result"
    }
   ],
   "source": [
    "df.describe()"
   ]
  },
  {
   "cell_type": "code",
   "execution_count": 11,
   "metadata": {
    "collapsed": false
   },
   "outputs": [],
   "source": [
    "df = df.reset_index(drop=True)"
   ]
  },
  {
   "cell_type": "markdown",
   "metadata": {},
   "source": [
    "## Defining the target variable"
   ]
  },
  {
   "cell_type": "markdown",
   "metadata": {},
   "source": [
    "The 75th percentile for movie ratings in the sample created randomly from the IMDB database has a value of 6,9. This leads to a natural threshold value to determine whether a movie is good or not: a movie that has a rating of 7 or higher will be a good movie, while any movie that has a rating below 7 will not be considered a good movie."
   ]
  },
  {
   "cell_type": "code",
   "execution_count": 12,
   "metadata": {
    "collapsed": false
   },
   "outputs": [],
   "source": [
    "for i in range(len(df['rating'])):\n",
    "    if df.loc[i, 'rating']<7:\n",
    "        df.loc[i, 'good_movie'] =0\n",
    "    else:\n",
    "        df.loc[i, 'good_movie'] =1"
   ]
  },
  {
   "cell_type": "markdown",
   "metadata": {},
   "source": [
    "Of the 406 movies, 308 are not considered to be good movies. 98 of them turn out to be good movies. This leads to a baseline of 0.759."
   ]
  },
  {
   "cell_type": "code",
   "execution_count": 13,
   "metadata": {
    "collapsed": false
   },
   "outputs": [
    {
     "data": {
      "text/plain": [
       "0.0    308\n",
       "1.0     98\n",
       "Name: good_movie, dtype: int64"
      ]
     },
     "execution_count": 13,
     "metadata": {},
     "output_type": "execute_result"
    }
   ],
   "source": [
    "df['good_movie'].value_counts()"
   ]
  },
  {
   "cell_type": "code",
   "execution_count": 14,
   "metadata": {
    "collapsed": false
   },
   "outputs": [
    {
     "name": "stdout",
     "output_type": "stream",
     "text": [
      "Baseline:\n",
      "0.758620689655\n"
     ]
    }
   ],
   "source": [
    "print 'Baseline:'\n",
    "print 308/406"
   ]
  },
  {
   "cell_type": "code",
   "execution_count": 15,
   "metadata": {
    "collapsed": true
   },
   "outputs": [],
   "source": [
    "import matplotlib.pyplot as plt\n",
    "import seaborn as sns"
   ]
  },
  {
   "cell_type": "markdown",
   "metadata": {},
   "source": [
    "## Visualizations"
   ]
  },
  {
   "cell_type": "code",
   "execution_count": 16,
   "metadata": {
    "collapsed": false
   },
   "outputs": [
    {
     "data": {
      "image/png": "[encoded data removed]",
      "text/plain": [
       "<matplotlib.figure.Figure at 0x1177ffad0>"
      ]
     },
     "metadata": {},
     "output_type": "display_data"
    }
   ],
   "source": [
    "plt.hist(df['rating'], bins=(15))\n",
    "plt.xlim(0,10)\n",
    "plt.xlabel('Rating')\n",
    "plt.ylabel('Count')\n",
    "plt.title('Distribution of sample movie ratings')\n",
    "plt.show()"
   ]
  },
  {
   "cell_type": "markdown",
   "metadata": {},
   "source": [
    "The distribution of ratings seems to be negatively skewed. The mean is lower than the median, which is lower than the mode. The cutoff point for being a good movie in this project is a rating of 7."
   ]
  },
  {
   "cell_type": "code",
   "execution_count": 17,
   "metadata": {
    "collapsed": false
   },
   "outputs": [
    {
     "data": {
      "image/png": "[encoded data removed]",
      "text/plain": [
       "<matplotlib.figure.Figure at 0x1177ff650>"
      ]
     },
     "metadata": {},
     "output_type": "display_data"
    }
   ],
   "source": [
    "plt.hist(df['year'], bins =range(1910,2010, 5))\n",
    "plt.title(\"Distribution of sample by year\")\n",
    "plt.show()"
   ]
  },
  {
   "cell_type": "markdown",
   "metadata": {},
   "source": [
    "As can be seen from this chart, recent movies (movies after 2004) are not included in the sample. What is also interesting is that there seem to be relatively few movies in our dataset that were released in the time period 1985-1989."
   ]
  },
  {
   "cell_type": "code",
   "execution_count": 18,
   "metadata": {
    "collapsed": false
   },
   "outputs": [
    {
     "data": {
      "image/png": "[encoded data removed]",
      "text/plain": [
       "<matplotlib.figure.Figure at 0x11a083ad0>"
      ]
     },
     "metadata": {},
     "output_type": "display_data"
    }
   ],
   "source": [
    "plt.hist(df['runtime'], bins =range(2800, 14000, 400))\n",
    "plt.title(\"Distribution of sample runtimes in seconds\")\n",
    "plt.show()"
   ]
  },
  {
   "cell_type": "markdown",
   "metadata": {},
   "source": [
    "There are a few large outliers in the dataset (movies that last longer than 12000 seconds which is almost 3,5 hours). The average movie seems to last a little over half an hour."
   ]
  },
  {
   "cell_type": "markdown",
   "metadata": {},
   "source": [
    "## Defining the features to be used in the analysis."
   ]
  },
  {
   "cell_type": "code",
   "execution_count": 19,
   "metadata": {
    "collapsed": false
   },
   "outputs": [],
   "source": [
    "for i in range(len(df['tagline'])):\n",
    "    if pd.isnull(df['tagline'])[i]:\n",
    "        df.loc[i, 'has_tagline']=0\n",
    "    else:\n",
    "        df.loc[i, 'has_tagline']=1"
   ]
  },
  {
   "cell_type": "markdown",
   "metadata": {},
   "source": [
    "One of the features to predict whether a movie will be good or not, is to see whether the movie has a tagline or not. This may have predictive power for defining whether a movie will be good or not."
   ]
  },
  {
   "cell_type": "code",
   "execution_count": 20,
   "metadata": {
    "collapsed": true
   },
   "outputs": [],
   "source": [
    "for i in range(len(df['director1'])):\n",
    "    if pd.isnull(df['director1'])[i]:\n",
    "        df.loc[i, 'mult_directors']=0\n",
    "    else:\n",
    "        df.loc[i, 'mult_directors']=1"
   ]
  },
  {
   "cell_type": "markdown",
   "metadata": {},
   "source": [
    "Another feature that is created is a dummy for movies that have multiple directors. This might lead to better movies."
   ]
  },
  {
   "cell_type": "code",
   "execution_count": 22,
   "metadata": {
    "collapsed": false
   },
   "outputs": [
    {
     "data": {
      "text/html": [
       "<div>\n",
       "<table border=\"1\" class=\"dataframe\">\n",
       "  <thead>\n",
       "    <tr style=\"text-align: right;\">\n",
       "      <th></th>\n",
       "      <th>out_american</th>\n",
       "      <th>out_boy</th>\n",
       "      <th>out_business</th>\n",
       "      <th>out_city</th>\n",
       "      <th>out_daughter</th>\n",
       "      <th>out_day</th>\n",
       "      <th>out_death</th>\n",
       "      <th>out_doctor</th>\n",
       "      <th>out_family</th>\n",
       "      <th>out_father</th>\n",
       "      <th>...</th>\n",
       "      <th>out_war</th>\n",
       "      <th>out_wealthy</th>\n",
       "      <th>out_wife</th>\n",
       "      <th>out_woman</th>\n",
       "      <th>out_women</th>\n",
       "      <th>out_world</th>\n",
       "      <th>out_writer</th>\n",
       "      <th>out_year</th>\n",
       "      <th>out_years</th>\n",
       "      <th>out_young</th>\n",
       "    </tr>\n",
       "  </thead>\n",
       "  <tbody>\n",
       "    <tr>\n",
       "      <th>0</th>\n",
       "      <td>0</td>\n",
       "      <td>0</td>\n",
       "      <td>0</td>\n",
       "      <td>0</td>\n",
       "      <td>0</td>\n",
       "      <td>0</td>\n",
       "      <td>0</td>\n",
       "      <td>0</td>\n",
       "      <td>0</td>\n",
       "      <td>1</td>\n",
       "      <td>...</td>\n",
       "      <td>0</td>\n",
       "      <td>0</td>\n",
       "      <td>0</td>\n",
       "      <td>2</td>\n",
       "      <td>0</td>\n",
       "      <td>0</td>\n",
       "      <td>0</td>\n",
       "      <td>0</td>\n",
       "      <td>0</td>\n",
       "      <td>1</td>\n",
       "    </tr>\n",
       "    <tr>\n",
       "      <th>1</th>\n",
       "      <td>0</td>\n",
       "      <td>0</td>\n",
       "      <td>0</td>\n",
       "      <td>0</td>\n",
       "      <td>0</td>\n",
       "      <td>0</td>\n",
       "      <td>1</td>\n",
       "      <td>0</td>\n",
       "      <td>0</td>\n",
       "      <td>0</td>\n",
       "      <td>...</td>\n",
       "      <td>0</td>\n",
       "      <td>0</td>\n",
       "      <td>0</td>\n",
       "      <td>0</td>\n",
       "      <td>0</td>\n",
       "      <td>0</td>\n",
       "      <td>0</td>\n",
       "      <td>0</td>\n",
       "      <td>0</td>\n",
       "      <td>0</td>\n",
       "    </tr>\n",
       "    <tr>\n",
       "      <th>2</th>\n",
       "      <td>0</td>\n",
       "      <td>0</td>\n",
       "      <td>0</td>\n",
       "      <td>0</td>\n",
       "      <td>0</td>\n",
       "      <td>0</td>\n",
       "      <td>0</td>\n",
       "      <td>0</td>\n",
       "      <td>0</td>\n",
       "      <td>0</td>\n",
       "      <td>...</td>\n",
       "      <td>0</td>\n",
       "      <td>0</td>\n",
       "      <td>0</td>\n",
       "      <td>0</td>\n",
       "      <td>0</td>\n",
       "      <td>0</td>\n",
       "      <td>0</td>\n",
       "      <td>0</td>\n",
       "      <td>0</td>\n",
       "      <td>0</td>\n",
       "    </tr>\n",
       "    <tr>\n",
       "      <th>3</th>\n",
       "      <td>0</td>\n",
       "      <td>0</td>\n",
       "      <td>0</td>\n",
       "      <td>1</td>\n",
       "      <td>0</td>\n",
       "      <td>0</td>\n",
       "      <td>0</td>\n",
       "      <td>0</td>\n",
       "      <td>0</td>\n",
       "      <td>0</td>\n",
       "      <td>...</td>\n",
       "      <td>0</td>\n",
       "      <td>0</td>\n",
       "      <td>0</td>\n",
       "      <td>0</td>\n",
       "      <td>0</td>\n",
       "      <td>0</td>\n",
       "      <td>0</td>\n",
       "      <td>0</td>\n",
       "      <td>1</td>\n",
       "      <td>0</td>\n",
       "    </tr>\n",
       "    <tr>\n",
       "      <th>4</th>\n",
       "      <td>0</td>\n",
       "      <td>0</td>\n",
       "      <td>0</td>\n",
       "      <td>0</td>\n",
       "      <td>0</td>\n",
       "      <td>0</td>\n",
       "      <td>0</td>\n",
       "      <td>0</td>\n",
       "      <td>3</td>\n",
       "      <td>0</td>\n",
       "      <td>...</td>\n",
       "      <td>0</td>\n",
       "      <td>0</td>\n",
       "      <td>0</td>\n",
       "      <td>0</td>\n",
       "      <td>0</td>\n",
       "      <td>0</td>\n",
       "      <td>0</td>\n",
       "      <td>0</td>\n",
       "      <td>0</td>\n",
       "      <td>0</td>\n",
       "    </tr>\n",
       "  </tbody>\n",
       "</table>\n",
       "<p>5 rows × 50 columns</p>\n",
       "</div>"
      ],
      "text/plain": [
       "   out_american  out_boy  out_business  out_city  out_daughter  out_day  \\\n",
       "0             0        0             0         0             0        0   \n",
       "1             0        0             0         0             0        0   \n",
       "2             0        0             0         0             0        0   \n",
       "3             0        0             0         1             0        0   \n",
       "4             0        0             0         0             0        0   \n",
       "\n",
       "   out_death  out_doctor  out_family  out_father    ...      out_war  \\\n",
       "0          0           0           0           1    ...            0   \n",
       "1          1           0           0           0    ...            0   \n",
       "2          0           0           0           0    ...            0   \n",
       "3          0           0           0           0    ...            0   \n",
       "4          0           0           3           0    ...            0   \n",
       "\n",
       "   out_wealthy  out_wife  out_woman  out_women  out_world  out_writer  \\\n",
       "0            0         0          2          0          0           0   \n",
       "1            0         0          0          0          0           0   \n",
       "2            0         0          0          0          0           0   \n",
       "3            0         0          0          0          0           0   \n",
       "4            0         0          0          0          0           0   \n",
       "\n",
       "   out_year  out_years  out_young  \n",
       "0         0          0          1  \n",
       "1         0          0          0  \n",
       "2         0          0          0  \n",
       "3         0          1          0  \n",
       "4         0          0          0  \n",
       "\n",
       "[5 rows x 50 columns]"
      ]
     },
     "execution_count": 22,
     "metadata": {},
     "output_type": "execute_result"
    }
   ],
   "source": [
    "from sklearn.feature_extraction.text import CountVectorizer\n",
    "cv = CountVectorizer(max_features=50, stop_words='english')\n",
    "data = cv.fit_transform(df.outline).todense()\n",
    "columns = [c for c in cv.get_feature_names()]\n",
    "outlinedf = pd.DataFrame(data, columns=columns)\n",
    "outlinedf.columns = ['out_' + str(col) for col in outlinedf.columns]\n",
    "outlinedf.head()"
   ]
  },
  {
   "cell_type": "markdown",
   "metadata": {},
   "source": [
    "The outline may have a certain predictive power for the success of a movie: certain words in an outline may predict that a movie will have a better rating."
   ]
  },
  {
   "cell_type": "code",
   "execution_count": 23,
   "metadata": {
    "collapsed": true
   },
   "outputs": [],
   "source": [
    "genre1 = pd.get_dummies(df.loc[:,'genres0'], prefix = 'gen_')\n",
    "genre2 = pd.get_dummies(df.loc[:,'genres1'], prefix = 'gen_')\n",
    "genre3 = pd.get_dummies(df.loc[:,'genres2'], prefix = 'gen_')\n",
    "genre4 = pd.get_dummies(df.loc[:,'genres3'], prefix = 'gen_')\n",
    "genre12 = genre1.add(genre2, fill_value=0)\n",
    "genre123 = genre12.add(genre3, fill_value = 0)\n",
    "genre = genre123.add(genre4, fill_value = 0)"
   ]
  },
  {
   "cell_type": "markdown",
   "metadata": {},
   "source": [
    "The genre of a movie may also determine whether a movie will receive a good rating or not."
   ]
  },
  {
   "cell_type": "code",
   "execution_count": 24,
   "metadata": {
    "collapsed": false
   },
   "outputs": [],
   "source": [
    "df_new = df.join(outlinedf)\n",
    "df_new = df_new.join(genre)"
   ]
  },
  {
   "cell_type": "code",
   "execution_count": 25,
   "metadata": {
    "collapsed": false
   },
   "outputs": [],
   "source": [
    "df_new = df_new.drop(df.loc[:,'genres0':'genres6'], axis=1)\n",
    "df_new = df_new.drop('director0', axis=1)"
   ]
  },
  {
   "cell_type": "code",
   "execution_count": 26,
   "metadata": {
    "collapsed": false
   },
   "outputs": [],
   "source": [
    "y = df_new['good_movie']"
   ]
  },
  {
   "cell_type": "code",
   "execution_count": 27,
   "metadata": {
    "collapsed": true
   },
   "outputs": [],
   "source": [
    "X = df_new.loc[:, 'year':]\n",
    "X = X.drop('good_movie', axis=1)"
   ]
  },
  {
   "cell_type": "markdown",
   "metadata": {},
   "source": [
    "Finally, all of the features selected are scaled, to make sure that they are treated equally and that the model does not misinterpret the size and significance of different feature values."
   ]
  },
  {
   "cell_type": "code",
   "execution_count": 28,
   "metadata": {
    "collapsed": true
   },
   "outputs": [],
   "source": [
    "from sklearn.preprocessing import StandardScaler\n",
    "X = pd.DataFrame(StandardScaler().fit_transform(X), columns = X.columns)"
   ]
  },
  {
   "cell_type": "code",
   "execution_count": 29,
   "metadata": {
    "collapsed": false
   },
   "outputs": [
    {
     "data": {
      "text/html": [
       "<div>\n",
       "<table border=\"1\" class=\"dataframe\">\n",
       "  <thead>\n",
       "    <tr style=\"text-align: right;\">\n",
       "      <th></th>\n",
       "      <th>year</th>\n",
       "      <th>runtime</th>\n",
       "      <th>has_tagline</th>\n",
       "      <th>mult_directors</th>\n",
       "      <th>out_american</th>\n",
       "      <th>out_boy</th>\n",
       "      <th>out_business</th>\n",
       "      <th>out_city</th>\n",
       "      <th>out_daughter</th>\n",
       "      <th>out_day</th>\n",
       "      <th>...</th>\n",
       "      <th>gen__Horror</th>\n",
       "      <th>gen__Music</th>\n",
       "      <th>gen__Musical</th>\n",
       "      <th>gen__Mystery</th>\n",
       "      <th>gen__Romance</th>\n",
       "      <th>gen__Sci-Fi</th>\n",
       "      <th>gen__Sport</th>\n",
       "      <th>gen__Thriller</th>\n",
       "      <th>gen__War</th>\n",
       "      <th>gen__Western</th>\n",
       "    </tr>\n",
       "  </thead>\n",
       "  <tbody>\n",
       "    <tr>\n",
       "      <th>0</th>\n",
       "      <td>-1.618690</td>\n",
       "      <td>-0.799872</td>\n",
       "      <td>-0.853030</td>\n",
       "      <td>-0.221575</td>\n",
       "      <td>-0.18357</td>\n",
       "      <td>-0.15891</td>\n",
       "      <td>-0.150566</td>\n",
       "      <td>-0.153177</td>\n",
       "      <td>-0.166878</td>\n",
       "      <td>-0.150566</td>\n",
       "      <td>...</td>\n",
       "      <td>-0.330590</td>\n",
       "      <td>-0.132453</td>\n",
       "      <td>-0.181876</td>\n",
       "      <td>-0.256158</td>\n",
       "      <td>-0.428571</td>\n",
       "      <td>-0.245056</td>\n",
       "      <td>-0.122474</td>\n",
       "      <td>-0.374766</td>\n",
       "      <td>-0.20905</td>\n",
       "      <td>-0.27735</td>\n",
       "    </tr>\n",
       "    <tr>\n",
       "      <th>1</th>\n",
       "      <td>1.134892</td>\n",
       "      <td>-0.447316</td>\n",
       "      <td>1.172292</td>\n",
       "      <td>-0.221575</td>\n",
       "      <td>-0.18357</td>\n",
       "      <td>-0.15891</td>\n",
       "      <td>-0.150566</td>\n",
       "      <td>-0.153177</td>\n",
       "      <td>-0.166878</td>\n",
       "      <td>-0.150566</td>\n",
       "      <td>...</td>\n",
       "      <td>3.024897</td>\n",
       "      <td>-0.132453</td>\n",
       "      <td>-0.181876</td>\n",
       "      <td>-0.256158</td>\n",
       "      <td>-0.428571</td>\n",
       "      <td>-0.245056</td>\n",
       "      <td>-0.122474</td>\n",
       "      <td>-0.374766</td>\n",
       "      <td>-0.20905</td>\n",
       "      <td>-0.27735</td>\n",
       "    </tr>\n",
       "    <tr>\n",
       "      <th>2</th>\n",
       "      <td>-0.438584</td>\n",
       "      <td>-0.182899</td>\n",
       "      <td>-0.853030</td>\n",
       "      <td>-0.221575</td>\n",
       "      <td>-0.18357</td>\n",
       "      <td>-0.15891</td>\n",
       "      <td>-0.150566</td>\n",
       "      <td>-0.153177</td>\n",
       "      <td>-0.166878</td>\n",
       "      <td>-0.150566</td>\n",
       "      <td>...</td>\n",
       "      <td>-0.330590</td>\n",
       "      <td>-0.132453</td>\n",
       "      <td>-0.181876</td>\n",
       "      <td>-0.256158</td>\n",
       "      <td>-0.428571</td>\n",
       "      <td>-0.245056</td>\n",
       "      <td>-0.122474</td>\n",
       "      <td>-0.374766</td>\n",
       "      <td>-0.20905</td>\n",
       "      <td>-0.27735</td>\n",
       "    </tr>\n",
       "    <tr>\n",
       "      <th>3</th>\n",
       "      <td>-0.831953</td>\n",
       "      <td>-0.491386</td>\n",
       "      <td>-0.853030</td>\n",
       "      <td>-0.221575</td>\n",
       "      <td>-0.18357</td>\n",
       "      <td>-0.15891</td>\n",
       "      <td>-0.150566</td>\n",
       "      <td>5.500454</td>\n",
       "      <td>-0.166878</td>\n",
       "      <td>-0.150566</td>\n",
       "      <td>...</td>\n",
       "      <td>-0.330590</td>\n",
       "      <td>-0.132453</td>\n",
       "      <td>-0.181876</td>\n",
       "      <td>-0.256158</td>\n",
       "      <td>-0.428571</td>\n",
       "      <td>-0.245056</td>\n",
       "      <td>-0.122474</td>\n",
       "      <td>2.668333</td>\n",
       "      <td>-0.20905</td>\n",
       "      <td>-0.27735</td>\n",
       "    </tr>\n",
       "    <tr>\n",
       "      <th>4</th>\n",
       "      <td>0.828938</td>\n",
       "      <td>0.037448</td>\n",
       "      <td>-0.853030</td>\n",
       "      <td>-0.221575</td>\n",
       "      <td>-0.18357</td>\n",
       "      <td>-0.15891</td>\n",
       "      <td>-0.150566</td>\n",
       "      <td>-0.153177</td>\n",
       "      <td>-0.166878</td>\n",
       "      <td>-0.150566</td>\n",
       "      <td>...</td>\n",
       "      <td>-0.330590</td>\n",
       "      <td>-0.132453</td>\n",
       "      <td>-0.181876</td>\n",
       "      <td>-0.256158</td>\n",
       "      <td>-0.428571</td>\n",
       "      <td>-0.245056</td>\n",
       "      <td>-0.122474</td>\n",
       "      <td>-0.374766</td>\n",
       "      <td>-0.20905</td>\n",
       "      <td>-0.27735</td>\n",
       "    </tr>\n",
       "  </tbody>\n",
       "</table>\n",
       "<p>5 rows × 76 columns</p>\n",
       "</div>"
      ],
      "text/plain": [
       "       year   runtime  has_tagline  mult_directors  out_american  out_boy  \\\n",
       "0 -1.618690 -0.799872    -0.853030       -0.221575      -0.18357 -0.15891   \n",
       "1  1.134892 -0.447316     1.172292       -0.221575      -0.18357 -0.15891   \n",
       "2 -0.438584 -0.182899    -0.853030       -0.221575      -0.18357 -0.15891   \n",
       "3 -0.831953 -0.491386    -0.853030       -0.221575      -0.18357 -0.15891   \n",
       "4  0.828938  0.037448    -0.853030       -0.221575      -0.18357 -0.15891   \n",
       "\n",
       "   out_business  out_city  out_daughter   out_day      ...       gen__Horror  \\\n",
       "0     -0.150566 -0.153177     -0.166878 -0.150566      ...         -0.330590   \n",
       "1     -0.150566 -0.153177     -0.166878 -0.150566      ...          3.024897   \n",
       "2     -0.150566 -0.153177     -0.166878 -0.150566      ...         -0.330590   \n",
       "3     -0.150566  5.500454     -0.166878 -0.150566      ...         -0.330590   \n",
       "4     -0.150566 -0.153177     -0.166878 -0.150566      ...         -0.330590   \n",
       "\n",
       "   gen__Music  gen__Musical  gen__Mystery  gen__Romance  gen__Sci-Fi  \\\n",
       "0   -0.132453     -0.181876     -0.256158     -0.428571    -0.245056   \n",
       "1   -0.132453     -0.181876     -0.256158     -0.428571    -0.245056   \n",
       "2   -0.132453     -0.181876     -0.256158     -0.428571    -0.245056   \n",
       "3   -0.132453     -0.181876     -0.256158     -0.428571    -0.245056   \n",
       "4   -0.132453     -0.181876     -0.256158     -0.428571    -0.245056   \n",
       "\n",
       "   gen__Sport  gen__Thriller  gen__War  gen__Western  \n",
       "0   -0.122474      -0.374766  -0.20905      -0.27735  \n",
       "1   -0.122474      -0.374766  -0.20905      -0.27735  \n",
       "2   -0.122474      -0.374766  -0.20905      -0.27735  \n",
       "3   -0.122474       2.668333  -0.20905      -0.27735  \n",
       "4   -0.122474      -0.374766  -0.20905      -0.27735  \n",
       "\n",
       "[5 rows x 76 columns]"
      ]
     },
     "execution_count": 29,
     "metadata": {},
     "output_type": "execute_result"
    }
   ],
   "source": [
    "X.head()"
   ]
  },
  {
   "cell_type": "markdown",
   "metadata": {},
   "source": [
    "The sample is split into a testing sample and a training set, so that there is no information spillover and so that there is a fair assessment of the accuracy of the model."
   ]
  },
  {
   "cell_type": "code",
   "execution_count": 30,
   "metadata": {
    "collapsed": false
   },
   "outputs": [],
   "source": [
    "from sklearn.model_selection import train_test_split\n",
    "X_train, X_test, y_train, y_test = train_test_split(X,y, test_size = 0.3)"
   ]
  },
  {
   "cell_type": "markdown",
   "metadata": {},
   "source": [
    "To start off, we use decision tree classifiers to look into our classification problem. "
   ]
  },
  {
   "cell_type": "code",
   "execution_count": 31,
   "metadata": {
    "collapsed": false
   },
   "outputs": [
    {
     "data": {
      "text/plain": [
       "DecisionTreeClassifier(class_weight=None, criterion='gini', max_depth=None,\n",
       "            max_features=None, max_leaf_nodes=None,\n",
       "            min_impurity_split=1e-07, min_samples_leaf=1,\n",
       "            min_samples_split=2, min_weight_fraction_leaf=0.0,\n",
       "            presort=False, random_state=None, splitter='best')"
      ]
     },
     "execution_count": 31,
     "metadata": {},
     "output_type": "execute_result"
    }
   ],
   "source": [
    "from sklearn.tree import DecisionTreeClassifier\n",
    "treereg = DecisionTreeClassifier()\n",
    "treereg.fit(X_train, y_train)"
   ]
  },
  {
   "cell_type": "code",
   "execution_count": 32,
   "metadata": {
    "collapsed": true
   },
   "outputs": [],
   "source": [
    "preds = treereg.predict(X_test)"
   ]
  },
  {
   "cell_type": "code",
   "execution_count": 33,
   "metadata": {
    "collapsed": false
   },
   "outputs": [
    {
     "name": "stdout",
     "output_type": "stream",
     "text": [
      "             precision    recall  f1-score   support\n",
      "\n",
      "        0.0       0.77      0.84      0.80        89\n",
      "        1.0       0.42      0.30      0.35        33\n",
      "\n",
      "avg / total       0.67      0.70      0.68       122\n",
      "\n"
     ]
    }
   ],
   "source": [
    "from sklearn.metrics import classification_report, confusion_matrix\n",
    "print classification_report(y_test, preds)"
   ]
  },
  {
   "cell_type": "markdown",
   "metadata": {},
   "source": [
    "The decision tree leads to a fairly poor score compared to our baseline accuracy, indicating that the features do not have a lot of predictive power."
   ]
  },
  {
   "cell_type": "code",
   "execution_count": 39,
   "metadata": {
    "collapsed": false
   },
   "outputs": [
    {
     "name": "stdout",
     "output_type": "stream",
     "text": [
      "[[75 14]\n",
      " [23 10]]\n"
     ]
    }
   ],
   "source": [
    "print confusion_matrix(y_test, preds)"
   ]
  },
  {
   "cell_type": "code",
   "execution_count": 40,
   "metadata": {
    "collapsed": true
   },
   "outputs": [],
   "source": [
    "from os import system\n",
    "from sklearn.tree import export_graphviz\n",
    "def build_tree_image(model, filename='tree.png'):\n",
    "    dotfile = open(\"tree.dot\", 'w')\n",
    "    export_graphviz(model, out_file = dotfile, feature_names = X.columns,filled=True,\n",
    "                    rounded=True,special_characters=True)\n",
    "    dotfile.close()\n",
    "    system(\"dot -Tpng tree.dot -o {0}\".format(filename))"
   ]
  },
  {
   "cell_type": "code",
   "execution_count": 41,
   "metadata": {
    "collapsed": false
   },
   "outputs": [],
   "source": [
    "build_tree_image(treereg,'tree1.png')"
   ]
  },
  {
   "cell_type": "markdown",
   "metadata": {},
   "source": [
    "<img src='tree1.png' width= 80%>"
   ]
  },
  {
   "cell_type": "code",
   "execution_count": 42,
   "metadata": {
    "collapsed": true
   },
   "outputs": [],
   "source": [
    "from sklearn.model_selection import GridSearchCV\n",
    "params = dict(max_depth=range(2,10), min_samples_split=range(2,10), max_features = (2,76))\n",
    "gridsearch = GridSearchCV(estimator = treereg, param_grid = params)"
   ]
  },
  {
   "cell_type": "code",
   "execution_count": 43,
   "metadata": {
    "collapsed": false
   },
   "outputs": [
    {
     "data": {
      "text/plain": [
       "GridSearchCV(cv=None, error_score='raise',\n",
       "       estimator=DecisionTreeClassifier(class_weight=None, criterion='gini', max_depth=None,\n",
       "            max_features=None, max_leaf_nodes=None,\n",
       "            min_impurity_split=1e-07, min_samples_leaf=1,\n",
       "            min_samples_split=2, min_weight_fraction_leaf=0.0,\n",
       "            presort=False, random_state=None, splitter='best'),\n",
       "       fit_params={}, iid=True, n_jobs=1,\n",
       "       param_grid={'max_features': (2, 76), 'min_samples_split': [2, 3, 4, 5, 6, 7, 8, 9], 'max_depth': [2, 3, 4, 5, 6, 7, 8, 9]},\n",
       "       pre_dispatch='2*n_jobs', refit=True, return_train_score=True,\n",
       "       scoring=None, verbose=0)"
      ]
     },
     "execution_count": 43,
     "metadata": {},
     "output_type": "execute_result"
    }
   ],
   "source": [
    "gridsearch.fit(X_train, y_train)"
   ]
  },
  {
   "cell_type": "code",
   "execution_count": 44,
   "metadata": {
    "collapsed": false
   },
   "outputs": [
    {
     "data": {
      "text/plain": [
       "{'max_depth': 6, 'max_features': 2, 'min_samples_split': 5}"
      ]
     },
     "execution_count": 44,
     "metadata": {},
     "output_type": "execute_result"
    }
   ],
   "source": [
    "gridsearch.best_params_"
   ]
  },
  {
   "cell_type": "code",
   "execution_count": 45,
   "metadata": {
    "collapsed": false
   },
   "outputs": [
    {
     "data": {
      "text/plain": [
       "0.78169014084507038"
      ]
     },
     "execution_count": 45,
     "metadata": {},
     "output_type": "execute_result"
    }
   ],
   "source": [
    "gridsearch.best_score_"
   ]
  },
  {
   "cell_type": "code",
   "execution_count": 46,
   "metadata": {
    "collapsed": false
   },
   "outputs": [
    {
     "data": {
      "text/plain": [
       "DecisionTreeClassifier(class_weight=None, criterion='gini', max_depth=6,\n",
       "            max_features=2, max_leaf_nodes=None, min_impurity_split=1e-07,\n",
       "            min_samples_leaf=1, min_samples_split=5,\n",
       "            min_weight_fraction_leaf=0.0, presort=False, random_state=None,\n",
       "            splitter='best')"
      ]
     },
     "execution_count": 46,
     "metadata": {},
     "output_type": "execute_result"
    }
   ],
   "source": [
    "treereg = DecisionTreeClassifier(max_depth= 6, max_features= 2, min_samples_split= 5)\n",
    "treereg.fit(X_train, y_train)"
   ]
  },
  {
   "cell_type": "code",
   "execution_count": 47,
   "metadata": {
    "collapsed": true
   },
   "outputs": [],
   "source": [
    "y_pred = treereg.predict(X_test)"
   ]
  },
  {
   "cell_type": "code",
   "execution_count": 48,
   "metadata": {
    "collapsed": true
   },
   "outputs": [],
   "source": [
    "from sklearn.metrics import accuracy_score, classification_report, confusion_matrix"
   ]
  },
  {
   "cell_type": "code",
   "execution_count": 49,
   "metadata": {
    "collapsed": false
   },
   "outputs": [
    {
     "data": {
      "text/plain": [
       "0.72131147540983609"
      ]
     },
     "execution_count": 49,
     "metadata": {},
     "output_type": "execute_result"
    }
   ],
   "source": [
    "accuracy_score(y_test, y_pred)"
   ]
  },
  {
   "cell_type": "code",
   "execution_count": 50,
   "metadata": {
    "collapsed": false
   },
   "outputs": [
    {
     "name": "stdout",
     "output_type": "stream",
     "text": [
      "             precision    recall  f1-score   support\n",
      "\n",
      "        0.0       0.73      0.99      0.84        89\n",
      "        1.0       0.00      0.00      0.00        33\n",
      "\n",
      "avg / total       0.53      0.72      0.61       122\n",
      "\n"
     ]
    }
   ],
   "source": [
    "print classification_report(y_test, y_pred)"
   ]
  },
  {
   "cell_type": "code",
   "execution_count": 51,
   "metadata": {
    "collapsed": false
   },
   "outputs": [
    {
     "name": "stdout",
     "output_type": "stream",
     "text": [
      "[[88  1]\n",
      " [33  0]]\n"
     ]
    }
   ],
   "source": [
    "print confusion_matrix(y_test, y_pred)"
   ]
  },
  {
   "cell_type": "code",
   "execution_count": 53,
   "metadata": {
    "collapsed": true
   },
   "outputs": [],
   "source": [
    "build_tree_image(treereg,'tree2.png')"
   ]
  },
  {
   "cell_type": "markdown",
   "metadata": {},
   "source": [
    "<img src='tree2.png' width= 80%>"
   ]
  },
  {
   "cell_type": "code",
   "execution_count": 54,
   "metadata": {
    "collapsed": true
   },
   "outputs": [],
   "source": [
    "from sklearn.ensemble import BaggingClassifier, AdaBoostClassifier, ExtraTreesClassifier, RandomForestClassifier\n",
    "from sklearn.model_selection import cross_val_score"
   ]
  },
  {
   "cell_type": "code",
   "execution_count": 55,
   "metadata": {
    "collapsed": false
   },
   "outputs": [
    {
     "data": {
      "text/plain": [
       "RandomForestClassifier(bootstrap=True, class_weight=None, criterion='gini',\n",
       "            max_depth=None, max_features='auto', max_leaf_nodes=None,\n",
       "            min_impurity_split=1e-07, min_samples_leaf=1,\n",
       "            min_samples_split=2, min_weight_fraction_leaf=0.0,\n",
       "            n_estimators=5, n_jobs=1, oob_score=False, random_state=None,\n",
       "            verbose=0, warm_start=False)"
      ]
     },
     "execution_count": 55,
     "metadata": {},
     "output_type": "execute_result"
    }
   ],
   "source": [
    "rforest = RandomForestClassifier(n_estimators= 5)\n",
    "rforest.fit(X_train, y_train)"
   ]
  },
  {
   "cell_type": "code",
   "execution_count": 56,
   "metadata": {
    "collapsed": false
   },
   "outputs": [],
   "source": [
    "y_forest = rforest.predict(X_test)"
   ]
  },
  {
   "cell_type": "code",
   "execution_count": 57,
   "metadata": {
    "collapsed": false
   },
   "outputs": [
    {
     "data": {
      "text/plain": [
       "0.65573770491803274"
      ]
     },
     "execution_count": 57,
     "metadata": {},
     "output_type": "execute_result"
    }
   ],
   "source": [
    "accuracy_score(y_test, y_forest)"
   ]
  },
  {
   "cell_type": "markdown",
   "metadata": {
    "collapsed": true
   },
   "source": [
    "## Conclusion"
   ]
  },
  {
   "cell_type": "markdown",
   "metadata": {},
   "source": [
    "The predictive power of the models used is pretty poor. In my view this can be explained by the random sample that I have selected, and the lack of predictive power of the features selected. Genre, runtime, words in an outline, the number of directors or whether the movie has a tagline do not seem to be able to predict whether a movie is succesful or not. Future projects should include better features. However, including reviews did not seem fair to me, since these are written as a response to the quality of a movie. So this means that even though it might be highly correlated with a movie rating, it has no predictive power to see whether a movie will be succesful or not. For future projects it would be better to use other features that are known before a movie is released (such as production value)."
   ]
  },
  {
   "cell_type": "code",
   "execution_count": null,
   "metadata": {
    "collapsed": true
   },
   "outputs": [],
   "source": []
  }
 ],
 "metadata": {
  "anaconda-cloud": {},
  "kernelspec": {
   "display_name": "Python [conda root]",
   "language": "python",
   "name": "conda-root-py"
  },
  "language_info": {
   "codemirror_mode": {
    "name": "ipython",
    "version": 2
   },
   "file_extension": ".py",
   "mimetype": "text/x-python",
   "name": "python",
   "nbconvert_exporter": "python",
   "pygments_lexer": "ipython2",
   "version": "2.7.12"
  }
 },
 "nbformat": 4,
 "nbformat_minor": 1
}
