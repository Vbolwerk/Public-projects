{
 "cells": [
  {
   "cell_type": "markdown",
   "metadata": {},
   "source": [
    "## Identifying good movies from IMDB "
   ]
  },
  {
   "cell_type": "markdown",
   "metadata": {},
   "source": [
    "This project will focus on identifying good movies from a random sample of movies from IMDB. The definition of a 'good movie' in this case depends on the IMDB rating of a movie. The threshold value for a good movie will be defined later in the project, as it depends on the distribution of movie ratings on IMDB. This project will be considered succesful if it increases the baseline accuracy of identifying good movies. \n",
    "\n",
    "As features, this project uses information that is independent of ratings to try and predict whether a movie will be succesful. An easy way to determine if a movie is good would be by looking at the reviews, but since these are only known after the movie is released (and correlate highly with movie ratings), this project tries to look at other features (such as the genre, whether or not the movie has a tagline, the actors, directors, and the outline of the plot).\n",
    "\n",
    "The project will use decision trees to try to maximize the accuracy of the prediction of good movies using the features described earlier.\n",
    "\n",
    "The project uses an Imdb api to collect random movies from the database."
   ]
  },
  {
   "cell_type": "code",
   "execution_count": 1,
   "metadata": {
    "collapsed": true
   },
   "outputs": [],
   "source": [
    "import pandas as pd\n",
    "import numpy as np\n",
    "from imdbpie import Imdb"
   ]
  },
  {
   "cell_type": "code",
   "execution_count": 2,
   "metadata": {
    "collapsed": true
   },
   "outputs": [],
   "source": [
    "imdb = Imdb(anonymize=True)"
   ]
  },
  {
   "cell_type": "markdown",
   "metadata": {},
   "source": [
    "## Data collection"
   ]
  },
  {
   "cell_type": "markdown",
   "metadata": {},
   "source": [
    "To get a random sample, IMDB is scraped using a random ID generator. These ID's follow a pattern, in which higher ID values represent more recent additions to the database. More recent additions, however, tend to be TV episodes or TV shows. To get features efficiently, the first random integer only has a range of 0 to 4 (this means the probability of the ID corresponding with a movie is much higher, but the movies identified will tend to be older)."
   ]
  },
  {
   "cell_type": "code",
   "execution_count": 3,
   "metadata": {
    "collapsed": true
   },
   "outputs": [],
   "source": [
    "df=pd.DataFrame()"
   ]
  },
  {
   "cell_type": "code",
   "execution_count": null,
   "metadata": {
    "collapsed": true
   },
   "outputs": [],
   "source": [
    "# This is the code I used to scrape initially, but I will not run it again in this version of the notebook\n",
    "movie_count = 0 \n",
    "for i in range(10000):\n",
    "    id_ = 'tt'+str(0)+str(np.random.randint(0,4))+''.join([\"%s\" % np.random.randint(0, 9) for num in range(5)])\n",
    "    print id_\n",
    "    if imdb.title_exists(id_):\n",
    "        try:\n",
    "            title = imdb.get_title_by_id(id_)\n",
    "            if title.type=='feature':\n",
    "                if title.plot_outline!=None:\n",
    "                    df.loc[i,'rating']=title.rating\n",
    "                    df.loc[i,'title']=title.title\n",
    "                    df.loc[i,'year']=title.year\n",
    "                    for z in range(len(title.directors_summary)):\n",
    "                        df.loc[i, 'director'+str(z)]=str(title.directors_summary[z]).rsplit(\"'\")[1]\n",
    "                    df.loc[i, 'runtime']= title.runtime\n",
    "                    for y in range(len(title.genres)):\n",
    "                        df.loc[i, 'genres'+str(y)]=title.genres[y]\n",
    "                    for x in range(len(title.cast_summary)):\n",
    "                        df.loc[i, 'actor' +str(x)]= str(title.cast_summary[x]).rsplit(\"'\")[1]\n",
    "                    df.loc[i, 'tagline']= title.tagline\n",
    "                    df.loc[i, 'outline']= title.plot_outline\n",
    "                    movie_count+=1\n",
    "                    print movie_count\n",
    "                    if movie_count == 500:\n",
    "                        break\n",
    "                else:\n",
    "                    pass\n",
    "            else:\n",
    "                pass\n",
    "        except:\n",
    "            pass"
   ]
  },
  {
   "cell_type": "markdown",
   "metadata": {},
   "source": [
    "We have scraped 527 features in the dataset, all of which are selected to have a plot outline. However, the dataframe info below shows that not all of the movies have ratings. The data will need some further cleaning."
   ]
  },
  {
   "cell_type": "code",
   "execution_count": 4,
   "metadata": {
    "collapsed": false
   },
   "outputs": [
    {
     "data": {
      "text/html": [
       "<div>\n",
       "<table border=\"1\" class=\"dataframe\">\n",
       "  <thead>\n",
       "    <tr style=\"text-align: right;\">\n",
       "      <th></th>\n",
       "    </tr>\n",
       "  </thead>\n",
       "  <tbody>\n",
       "  </tbody>\n",
       "</table>\n",
       "</div>"
      ],
      "text/plain": [
       "Empty DataFrame\n",
       "Columns: []\n",
       "Index: []"
      ]
     },
     "execution_count": 4,
     "metadata": {},
     "output_type": "execute_result"
    }
   ],
   "source": [
    "#df.head()"
   ]
  },
  {
   "cell_type": "code",
   "execution_count": 12,
   "metadata": {
    "collapsed": false
   },
   "outputs": [],
   "source": [
    "#df.to_csv('Dataset/imdb_scrape.csv', sep=';', encoding ='utf-8')"
   ]
  },
  {
   "cell_type": "markdown",
   "metadata": {},
   "source": [
    "## Data cleaning"
   ]
  },
  {
   "cell_type": "code",
   "execution_count": 5,
   "metadata": {
    "collapsed": true
   },
   "outputs": [],
   "source": [
    "import pandas as pd\n",
    "import numpy as np\n",
    "from __future__ import division"
   ]
  },
  {
   "cell_type": "code",
   "execution_count": 6,
   "metadata": {
    "collapsed": false
   },
   "outputs": [],
   "source": [
    "df = pd.read_csv('Dataset/imdb_scrape.csv', sep =';', encoding = 'utf-8')"
   ]
  },
  {
   "cell_type": "code",
   "execution_count": 7,
   "metadata": {
    "collapsed": false
   },
   "outputs": [
    {
     "data": {
      "text/plain": [
       "Sunday                               2\n",
       "Buckskin                             2\n",
       "Profit and the Loss                  2\n",
       "Dirty Hands                          1\n",
       "The Woman Who Wanted an Apartment    1\n",
       "Name: title, dtype: int64"
      ]
     },
     "execution_count": 7,
     "metadata": {},
     "output_type": "execute_result"
    }
   ],
   "source": [
    "(df['title'].value_counts()).head()"
   ]
  },
  {
   "cell_type": "markdown",
   "metadata": {},
   "source": [
    "We can also identify some duplicate values in our database, since there is some overlap caused by the random ID generator. We remove these duplicates."
   ]
  },
  {
   "cell_type": "code",
   "execution_count": 8,
   "metadata": {
    "collapsed": false
   },
   "outputs": [],
   "source": [
    "df = df.drop_duplicates('title')"
   ]
  },
  {
   "cell_type": "code",
   "execution_count": 9,
   "metadata": {
    "collapsed": false
   },
   "outputs": [
    {
     "data": {
      "text/plain": [
       "Bubbles Galore            1\n",
       "Er ling ba ke ji          1\n",
       "Forever Yours             1\n",
       "Riders of the Badlands    1\n",
       "No Escape                 1\n",
       "Name: title, dtype: int64"
      ]
     },
     "execution_count": 9,
     "metadata": {},
     "output_type": "execute_result"
    }
   ],
   "source": [
    "(df['title'].value_counts()).head()"
   ]
  },
  {
   "cell_type": "code",
   "execution_count": 10,
   "metadata": {
    "collapsed": false
   },
   "outputs": [],
   "source": [
    "df = df.drop('Unnamed: 0', axis=1)"
   ]
  },
  {
   "cell_type": "markdown",
   "metadata": {},
   "source": [
    "Rows that have missing values in the rating, runtime, or primary genre columns are dropped from the dataframe."
   ]
  },
  {
   "cell_type": "code",
   "execution_count": 11,
   "metadata": {
    "collapsed": false
   },
   "outputs": [],
   "source": [
    "df = df[pd.notnull(df['rating'])]\n",
    "df = df[pd.notnull(df['runtime'])]\n",
    "df = df[pd.notnull(df['genres0'])]"
   ]
  },
  {
   "cell_type": "code",
   "execution_count": 12,
   "metadata": {
    "collapsed": false
   },
   "outputs": [
    {
     "name": "stdout",
     "output_type": "stream",
     "text": [
      "<class 'pandas.core.frame.DataFrame'>\n",
      "Int64Index: 412 entries, 1 to 526\n",
      "Data columns (total 18 columns):\n",
      "rating       412 non-null float64\n",
      "title        412 non-null object\n",
      "year         412 non-null float64\n",
      "director0    410 non-null object\n",
      "runtime      412 non-null float64\n",
      "genres0      412 non-null object\n",
      "genres1      258 non-null object\n",
      "actor0       412 non-null object\n",
      "actor1       412 non-null object\n",
      "actor2       412 non-null object\n",
      "actor3       411 non-null object\n",
      "tagline      185 non-null object\n",
      "outline      412 non-null object\n",
      "genres2      128 non-null object\n",
      "genres3      53 non-null object\n",
      "director1    20 non-null object\n",
      "genres4      16 non-null object\n",
      "genres5      1 non-null object\n",
      "dtypes: float64(3), object(15)\n",
      "memory usage: 61.2+ KB\n"
     ]
    }
   ],
   "source": [
    "df.info()"
   ]
  },
  {
   "cell_type": "code",
   "execution_count": 13,
   "metadata": {
    "collapsed": false
   },
   "outputs": [
    {
     "data": {
      "text/html": [
       "<div>\n",
       "<table border=\"1\" class=\"dataframe\">\n",
       "  <thead>\n",
       "    <tr style=\"text-align: right;\">\n",
       "      <th></th>\n",
       "      <th>rating</th>\n",
       "      <th>year</th>\n",
       "      <th>runtime</th>\n",
       "    </tr>\n",
       "  </thead>\n",
       "  <tbody>\n",
       "    <tr>\n",
       "      <th>count</th>\n",
       "      <td>412.000000</td>\n",
       "      <td>412.000000</td>\n",
       "      <td>412.000000</td>\n",
       "    </tr>\n",
       "    <tr>\n",
       "      <th>mean</th>\n",
       "      <td>6.083010</td>\n",
       "      <td>1972.283981</td>\n",
       "      <td>5557.281553</td>\n",
       "    </tr>\n",
       "    <tr>\n",
       "      <th>std</th>\n",
       "      <td>1.083341</td>\n",
       "      <td>22.788447</td>\n",
       "      <td>1414.912028</td>\n",
       "    </tr>\n",
       "    <tr>\n",
       "      <th>min</th>\n",
       "      <td>1.300000</td>\n",
       "      <td>1914.000000</td>\n",
       "      <td>1620.000000</td>\n",
       "    </tr>\n",
       "    <tr>\n",
       "      <th>25%</th>\n",
       "      <td>5.500000</td>\n",
       "      <td>1954.000000</td>\n",
       "      <td>4800.000000</td>\n",
       "    </tr>\n",
       "    <tr>\n",
       "      <th>50%</th>\n",
       "      <td>6.250000</td>\n",
       "      <td>1975.000000</td>\n",
       "      <td>5460.000000</td>\n",
       "    </tr>\n",
       "    <tr>\n",
       "      <th>75%</th>\n",
       "      <td>6.800000</td>\n",
       "      <td>1993.000000</td>\n",
       "      <td>6015.000000</td>\n",
       "    </tr>\n",
       "    <tr>\n",
       "      <th>max</th>\n",
       "      <td>8.800000</td>\n",
       "      <td>2006.000000</td>\n",
       "      <td>15000.000000</td>\n",
       "    </tr>\n",
       "  </tbody>\n",
       "</table>\n",
       "</div>"
      ],
      "text/plain": [
       "           rating         year       runtime\n",
       "count  412.000000   412.000000    412.000000\n",
       "mean     6.083010  1972.283981   5557.281553\n",
       "std      1.083341    22.788447   1414.912028\n",
       "min      1.300000  1914.000000   1620.000000\n",
       "25%      5.500000  1954.000000   4800.000000\n",
       "50%      6.250000  1975.000000   5460.000000\n",
       "75%      6.800000  1993.000000   6015.000000\n",
       "max      8.800000  2006.000000  15000.000000"
      ]
     },
     "execution_count": 13,
     "metadata": {},
     "output_type": "execute_result"
    }
   ],
   "source": [
    "df.describe()"
   ]
  },
  {
   "cell_type": "code",
   "execution_count": 14,
   "metadata": {
    "collapsed": false
   },
   "outputs": [],
   "source": [
    "df = df.reset_index(drop=True)"
   ]
  },
  {
   "cell_type": "markdown",
   "metadata": {},
   "source": [
    "## Defining the target variable"
   ]
  },
  {
   "cell_type": "markdown",
   "metadata": {},
   "source": [
    "Based on the distribution, it will be a relatively well-balanced sample if a threshold of 6.5 is chosen to distinguish good movies from bad movies. If a movie has a rating below 6.5, it is considered not good, while a movie with 6.5 or higher will be considered good."
   ]
  },
  {
   "cell_type": "code",
   "execution_count": 15,
   "metadata": {
    "collapsed": false
   },
   "outputs": [],
   "source": [
    "for i in range(len(df['rating'])):\n",
    "    if df.loc[i, 'rating']<6.5:\n",
    "        df.loc[i, 'good_movie'] =0\n",
    "    else:\n",
    "        df.loc[i, 'good_movie'] =1"
   ]
  },
  {
   "cell_type": "code",
   "execution_count": 16,
   "metadata": {
    "collapsed": false
   },
   "outputs": [
    {
     "name": "stdout",
     "output_type": "stream",
     "text": [
      "Bad movies: 246\n",
      "Good movies: 166\n",
      "Baseline accuracy: 0.597087378641\n"
     ]
    }
   ],
   "source": [
    "print 'Bad movies: ' + str(df['good_movie'].value_counts()[0])\n",
    "print 'Good movies: ' + str(df['good_movie'].value_counts()[1])\n",
    "print 'Baseline accuracy: ' +str(df['good_movie'].value_counts()[0]/(df['good_movie'].value_counts()[0]+df['good_movie'].value_counts()[1]))"
   ]
  },
  {
   "cell_type": "code",
   "execution_count": 17,
   "metadata": {
    "collapsed": true
   },
   "outputs": [],
   "source": [
    "import matplotlib.pyplot as plt\n",
    "import seaborn as sns"
   ]
  },
  {
   "cell_type": "markdown",
   "metadata": {},
   "source": [
    "## Visualizations"
   ]
  },
  {
   "cell_type": "code",
   "execution_count": 18,
   "metadata": {
    "collapsed": false
   },
   "outputs": [
    {
     "data": {
      "image/png": "[encoded data removed]",
      "text/plain": [
       "<matplotlib.figure.Figure at 0x116db0ad0>"
      ]
     },
     "metadata": {},
     "output_type": "display_data"
    }
   ],
   "source": [
    "plt.hist(df['rating'], bins=[0, 0.5, 1, 1.5, 2, 2.5, 3, 3.5, 4, 4.5, 5, 5.5, 6, 6.5, 7, 7.5, 8, 8.5, 9, 9.5, 10])\n",
    "plt.axvline(df['rating'].mean(), color='b', linestyle='dashed', linewidth=2, label='Mean')\n",
    "plt.axvline(6.5, color='r', linestyle='dashed', linewidth=2, label='Cut-off good movies')\n",
    "plt.xlim(0,10)\n",
    "plt.xlabel('Rating')\n",
    "plt.ylabel('Count')\n",
    "plt.title('Distribution of sample movie ratings')\n",
    "plt.show()"
   ]
  },
  {
   "cell_type": "markdown",
   "metadata": {},
   "source": [
    "The distribution of ratings seems to be negatively skewed. The mean is lower than the median, which is lower than the mode. The cutoff point for being a good movie in this project is a rating of 6.5, which is displayed by the red dotted line in the histogram."
   ]
  },
  {
   "cell_type": "code",
   "execution_count": 19,
   "metadata": {
    "collapsed": false
   },
   "outputs": [
    {
     "data": {
      "image/png": "[encoded data removed]",
      "text/plain": [
       "<matplotlib.figure.Figure at 0x116db0a50>"
      ]
     },
     "metadata": {},
     "output_type": "display_data"
    }
   ],
   "source": [
    "plt.hist(df['year'], bins =range(1910,2010, 5))\n",
    "plt.axvline(df['year'].mean(), color='b', linestyle='dashed', linewidth=2, label='Mean')\n",
    "plt.title(\"Distribution of sample by year\")\n",
    "plt.show()"
   ]
  },
  {
   "cell_type": "markdown",
   "metadata": {},
   "source": [
    "As can be seen from this chart, recent movies (movies after 2004) are not included in the sample. What is also interesting is that there seem to be relatively few movies in our dataset that were released in the time period 1985-1989, even though there is a relatively large amount of more recent movies in the distribution."
   ]
  },
  {
   "cell_type": "code",
   "execution_count": 20,
   "metadata": {
    "collapsed": false
   },
   "outputs": [
    {
     "data": {
      "image/png": "[encoded data removed]",
      "text/plain": [
       "<matplotlib.figure.Figure at 0x116da5550>"
      ]
     },
     "metadata": {},
     "output_type": "display_data"
    }
   ],
   "source": [
    "plt.hist(df['runtime'], bins =range(2800, 14000, 400))\n",
    "plt.title(\"Distribution of sample runtimes in seconds\")\n",
    "plt.show()"
   ]
  },
  {
   "cell_type": "markdown",
   "metadata": {},
   "source": [
    "There are a few large outliers in the dataset (movies that last longer than 12000 seconds, which is almost 3,5 hours). The average movie seems to last a little over one and a half hour."
   ]
  },
  {
   "cell_type": "markdown",
   "metadata": {},
   "source": [
    "## Defining the features to be used in the analysis."
   ]
  },
  {
   "cell_type": "code",
   "execution_count": 21,
   "metadata": {
    "collapsed": false
   },
   "outputs": [],
   "source": [
    "for i in range(len(df['tagline'])):\n",
    "    if pd.isnull(df['tagline'])[i]:\n",
    "        df.loc[i, 'has_tagline']=0\n",
    "    else:\n",
    "        df.loc[i, 'has_tagline']=1"
   ]
  },
  {
   "cell_type": "markdown",
   "metadata": {},
   "source": [
    "One of the features to predict whether a movie will be good or not, is to see whether the movie has a tagline or not. This may have predictive power for defining whether a movie will be good or not."
   ]
  },
  {
   "cell_type": "code",
   "execution_count": 22,
   "metadata": {
    "collapsed": true
   },
   "outputs": [],
   "source": [
    "for i in range(len(df['director1'])):\n",
    "    if pd.isnull(df['director1'])[i]:\n",
    "        df.loc[i, 'mult_directors']=0\n",
    "    else:\n",
    "        df.loc[i, 'mult_directors']=1"
   ]
  },
  {
   "cell_type": "markdown",
   "metadata": {},
   "source": [
    "Another feature that is created is a dummy for movies that have multiple directors. This might lead to better movies."
   ]
  },
  {
   "cell_type": "code",
   "execution_count": 23,
   "metadata": {
    "collapsed": false
   },
   "outputs": [
    {
     "data": {
      "text/html": [
       "<div>\n",
       "<table border=\"1\" class=\"dataframe\">\n",
       "  <thead>\n",
       "    <tr style=\"text-align: right;\">\n",
       "      <th></th>\n",
       "      <th>out_accused</th>\n",
       "      <th>out_actress</th>\n",
       "      <th>out_affair</th>\n",
       "      <th>out_african</th>\n",
       "      <th>out_age</th>\n",
       "      <th>out_agent</th>\n",
       "      <th>out_american</th>\n",
       "      <th>out_arrives</th>\n",
       "      <th>out_baby</th>\n",
       "      <th>out_band</th>\n",
       "      <th>...</th>\n",
       "      <th>out_working</th>\n",
       "      <th>out_world</th>\n",
       "      <th>out_writer</th>\n",
       "      <th>out_year</th>\n",
       "      <th>out_year old</th>\n",
       "      <th>out_years</th>\n",
       "      <th>out_york</th>\n",
       "      <th>out_young</th>\n",
       "      <th>out_young man</th>\n",
       "      <th>out_young woman</th>\n",
       "    </tr>\n",
       "  </thead>\n",
       "  <tbody>\n",
       "    <tr>\n",
       "      <th>0</th>\n",
       "      <td>0</td>\n",
       "      <td>0</td>\n",
       "      <td>0</td>\n",
       "      <td>0</td>\n",
       "      <td>0</td>\n",
       "      <td>0</td>\n",
       "      <td>0</td>\n",
       "      <td>0</td>\n",
       "      <td>0</td>\n",
       "      <td>0</td>\n",
       "      <td>...</td>\n",
       "      <td>0</td>\n",
       "      <td>0</td>\n",
       "      <td>0</td>\n",
       "      <td>0</td>\n",
       "      <td>0</td>\n",
       "      <td>0</td>\n",
       "      <td>0</td>\n",
       "      <td>0</td>\n",
       "      <td>0</td>\n",
       "      <td>0</td>\n",
       "    </tr>\n",
       "    <tr>\n",
       "      <th>1</th>\n",
       "      <td>0</td>\n",
       "      <td>0</td>\n",
       "      <td>0</td>\n",
       "      <td>0</td>\n",
       "      <td>0</td>\n",
       "      <td>0</td>\n",
       "      <td>0</td>\n",
       "      <td>0</td>\n",
       "      <td>0</td>\n",
       "      <td>0</td>\n",
       "      <td>...</td>\n",
       "      <td>0</td>\n",
       "      <td>1</td>\n",
       "      <td>0</td>\n",
       "      <td>0</td>\n",
       "      <td>0</td>\n",
       "      <td>0</td>\n",
       "      <td>0</td>\n",
       "      <td>0</td>\n",
       "      <td>0</td>\n",
       "      <td>0</td>\n",
       "    </tr>\n",
       "    <tr>\n",
       "      <th>2</th>\n",
       "      <td>0</td>\n",
       "      <td>0</td>\n",
       "      <td>0</td>\n",
       "      <td>0</td>\n",
       "      <td>0</td>\n",
       "      <td>0</td>\n",
       "      <td>0</td>\n",
       "      <td>0</td>\n",
       "      <td>0</td>\n",
       "      <td>0</td>\n",
       "      <td>...</td>\n",
       "      <td>0</td>\n",
       "      <td>0</td>\n",
       "      <td>0</td>\n",
       "      <td>0</td>\n",
       "      <td>0</td>\n",
       "      <td>0</td>\n",
       "      <td>0</td>\n",
       "      <td>0</td>\n",
       "      <td>0</td>\n",
       "      <td>0</td>\n",
       "    </tr>\n",
       "    <tr>\n",
       "      <th>3</th>\n",
       "      <td>0</td>\n",
       "      <td>0</td>\n",
       "      <td>0</td>\n",
       "      <td>0</td>\n",
       "      <td>0</td>\n",
       "      <td>0</td>\n",
       "      <td>0</td>\n",
       "      <td>0</td>\n",
       "      <td>0</td>\n",
       "      <td>0</td>\n",
       "      <td>...</td>\n",
       "      <td>0</td>\n",
       "      <td>0</td>\n",
       "      <td>0</td>\n",
       "      <td>0</td>\n",
       "      <td>0</td>\n",
       "      <td>0</td>\n",
       "      <td>0</td>\n",
       "      <td>0</td>\n",
       "      <td>0</td>\n",
       "      <td>0</td>\n",
       "    </tr>\n",
       "    <tr>\n",
       "      <th>4</th>\n",
       "      <td>0</td>\n",
       "      <td>0</td>\n",
       "      <td>0</td>\n",
       "      <td>0</td>\n",
       "      <td>0</td>\n",
       "      <td>0</td>\n",
       "      <td>0</td>\n",
       "      <td>0</td>\n",
       "      <td>0</td>\n",
       "      <td>0</td>\n",
       "      <td>...</td>\n",
       "      <td>0</td>\n",
       "      <td>0</td>\n",
       "      <td>0</td>\n",
       "      <td>0</td>\n",
       "      <td>0</td>\n",
       "      <td>0</td>\n",
       "      <td>0</td>\n",
       "      <td>0</td>\n",
       "      <td>0</td>\n",
       "      <td>0</td>\n",
       "    </tr>\n",
       "  </tbody>\n",
       "</table>\n",
       "<p>5 rows × 200 columns</p>\n",
       "</div>"
      ],
      "text/plain": [
       "   out_accused  out_actress  out_affair  out_african  out_age  out_agent  \\\n",
       "0            0            0           0            0        0          0   \n",
       "1            0            0           0            0        0          0   \n",
       "2            0            0           0            0        0          0   \n",
       "3            0            0           0            0        0          0   \n",
       "4            0            0           0            0        0          0   \n",
       "\n",
       "   out_american  out_arrives  out_baby  out_band       ...         \\\n",
       "0             0            0         0         0       ...          \n",
       "1             0            0         0         0       ...          \n",
       "2             0            0         0         0       ...          \n",
       "3             0            0         0         0       ...          \n",
       "4             0            0         0         0       ...          \n",
       "\n",
       "   out_working  out_world  out_writer  out_year  out_year old  out_years  \\\n",
       "0            0          0           0         0             0          0   \n",
       "1            0          1           0         0             0          0   \n",
       "2            0          0           0         0             0          0   \n",
       "3            0          0           0         0             0          0   \n",
       "4            0          0           0         0             0          0   \n",
       "\n",
       "   out_york  out_young  out_young man  out_young woman  \n",
       "0         0          0              0                0  \n",
       "1         0          0              0                0  \n",
       "2         0          0              0                0  \n",
       "3         0          0              0                0  \n",
       "4         0          0              0                0  \n",
       "\n",
       "[5 rows x 200 columns]"
      ]
     },
     "execution_count": 23,
     "metadata": {},
     "output_type": "execute_result"
    }
   ],
   "source": [
    "from sklearn.feature_extraction.text import CountVectorizer\n",
    "cv = CountVectorizer(max_features=200, ngram_range=(1,5), stop_words='english')\n",
    "data = cv.fit_transform(df.outline).todense()\n",
    "columns = [c for c in cv.get_feature_names()]\n",
    "outlinedf = pd.DataFrame(data, columns=columns)\n",
    "outlinedf.columns = ['out_' + str(col) for col in outlinedf.columns]\n",
    "outlinedf.head()"
   ]
  },
  {
   "cell_type": "markdown",
   "metadata": {},
   "source": [
    "The outline may have a certain predictive power for the success of a movie: certain words in an outline may predict that a movie will have a better rating. In this case I set ngram_range to range between 1 and 5, which means a sequence of words up to a length of 5 words can also be a feature if it occurs frequently in the outline. I limit the amount of features to 200."
   ]
  },
  {
   "cell_type": "code",
   "execution_count": 24,
   "metadata": {
    "collapsed": true
   },
   "outputs": [],
   "source": [
    "genre1 = pd.get_dummies(df.loc[:,'genres0'], prefix = 'gen_')\n",
    "genre2 = pd.get_dummies(df.loc[:,'genres1'], prefix = 'gen_')\n",
    "genre3 = pd.get_dummies(df.loc[:,'genres2'], prefix = 'gen_')\n",
    "genre4 = pd.get_dummies(df.loc[:,'genres3'], prefix = 'gen_')\n",
    "genre12 = genre1.add(genre2, fill_value=0)\n",
    "genre123 = genre12.add(genre3, fill_value = 0)\n",
    "genre = genre123.add(genre4, fill_value = 0)"
   ]
  },
  {
   "cell_type": "markdown",
   "metadata": {},
   "source": [
    "The genre of a movie may also determine whether a movie will receive a good rating or not."
   ]
  },
  {
   "cell_type": "code",
   "execution_count": 25,
   "metadata": {
    "collapsed": false
   },
   "outputs": [],
   "source": [
    "df_new = df.join(outlinedf)\n",
    "df_new = df_new.join(genre)"
   ]
  },
  {
   "cell_type": "code",
   "execution_count": 26,
   "metadata": {
    "collapsed": false
   },
   "outputs": [],
   "source": [
    "df_new = df_new.drop(df.loc[:,'genres0':'genres5'], axis=1)\n",
    "df_new = df_new.drop('director0', axis=1)"
   ]
  },
  {
   "cell_type": "code",
   "execution_count": 27,
   "metadata": {
    "collapsed": false
   },
   "outputs": [],
   "source": [
    "y = df_new['good_movie']"
   ]
  },
  {
   "cell_type": "code",
   "execution_count": 28,
   "metadata": {
    "collapsed": true
   },
   "outputs": [],
   "source": [
    "X = df_new.loc[:, 'year':]\n",
    "X = X.drop('good_movie', axis=1)"
   ]
  },
  {
   "cell_type": "markdown",
   "metadata": {},
   "source": [
    "Finally, all of the numerical features selected are scaled, to make sure that they are treated equally and that the model does not misinterpret the size and significance of different feature values."
   ]
  },
  {
   "cell_type": "code",
   "execution_count": 29,
   "metadata": {
    "collapsed": false
   },
   "outputs": [],
   "source": [
    "from sklearn.preprocessing import StandardScaler\n",
    "X[['year', 'runtime']] = pd.DataFrame(StandardScaler().fit_transform(X[['year', 'runtime']]), columns = ['year', 'runtime'])"
   ]
  },
  {
   "cell_type": "code",
   "execution_count": 30,
   "metadata": {
    "collapsed": false
   },
   "outputs": [
    {
     "data": {
      "text/html": [
       "<div>\n",
       "<table border=\"1\" class=\"dataframe\">\n",
       "  <thead>\n",
       "    <tr style=\"text-align: right;\">\n",
       "      <th></th>\n",
       "      <th>year</th>\n",
       "      <th>runtime</th>\n",
       "      <th>has_tagline</th>\n",
       "      <th>mult_directors</th>\n",
       "      <th>out_accused</th>\n",
       "      <th>out_actress</th>\n",
       "      <th>out_affair</th>\n",
       "      <th>out_african</th>\n",
       "      <th>out_age</th>\n",
       "      <th>out_agent</th>\n",
       "      <th>...</th>\n",
       "      <th>gen__Horror</th>\n",
       "      <th>gen__Music</th>\n",
       "      <th>gen__Musical</th>\n",
       "      <th>gen__Mystery</th>\n",
       "      <th>gen__Romance</th>\n",
       "      <th>gen__Sci-Fi</th>\n",
       "      <th>gen__Sport</th>\n",
       "      <th>gen__Thriller</th>\n",
       "      <th>gen__War</th>\n",
       "      <th>gen__Western</th>\n",
       "    </tr>\n",
       "  </thead>\n",
       "  <tbody>\n",
       "    <tr>\n",
       "      <th>0</th>\n",
       "      <td>-0.276088</td>\n",
       "      <td>-0.153752</td>\n",
       "      <td>0.0</td>\n",
       "      <td>0.0</td>\n",
       "      <td>0</td>\n",
       "      <td>0</td>\n",
       "      <td>0</td>\n",
       "      <td>0</td>\n",
       "      <td>0</td>\n",
       "      <td>0</td>\n",
       "      <td>...</td>\n",
       "      <td>0.0</td>\n",
       "      <td>0.0</td>\n",
       "      <td>0.0</td>\n",
       "      <td>0.0</td>\n",
       "      <td>0.0</td>\n",
       "      <td>0.0</td>\n",
       "      <td>0.0</td>\n",
       "      <td>0.0</td>\n",
       "      <td>0.0</td>\n",
       "      <td>0.0</td>\n",
       "    </tr>\n",
       "    <tr>\n",
       "      <th>1</th>\n",
       "      <td>-1.857757</td>\n",
       "      <td>-0.748150</td>\n",
       "      <td>0.0</td>\n",
       "      <td>0.0</td>\n",
       "      <td>0</td>\n",
       "      <td>0</td>\n",
       "      <td>0</td>\n",
       "      <td>0</td>\n",
       "      <td>0</td>\n",
       "      <td>0</td>\n",
       "      <td>...</td>\n",
       "      <td>0.0</td>\n",
       "      <td>0.0</td>\n",
       "      <td>0.0</td>\n",
       "      <td>0.0</td>\n",
       "      <td>1.0</td>\n",
       "      <td>0.0</td>\n",
       "      <td>0.0</td>\n",
       "      <td>0.0</td>\n",
       "      <td>0.0</td>\n",
       "      <td>0.0</td>\n",
       "    </tr>\n",
       "    <tr>\n",
       "      <th>2</th>\n",
       "      <td>1.173775</td>\n",
       "      <td>1.119958</td>\n",
       "      <td>0.0</td>\n",
       "      <td>0.0</td>\n",
       "      <td>0</td>\n",
       "      <td>0</td>\n",
       "      <td>0</td>\n",
       "      <td>0</td>\n",
       "      <td>0</td>\n",
       "      <td>0</td>\n",
       "      <td>...</td>\n",
       "      <td>0.0</td>\n",
       "      <td>0.0</td>\n",
       "      <td>0.0</td>\n",
       "      <td>0.0</td>\n",
       "      <td>0.0</td>\n",
       "      <td>0.0</td>\n",
       "      <td>0.0</td>\n",
       "      <td>0.0</td>\n",
       "      <td>0.0</td>\n",
       "      <td>0.0</td>\n",
       "    </tr>\n",
       "    <tr>\n",
       "      <th>3</th>\n",
       "      <td>1.041969</td>\n",
       "      <td>1.799271</td>\n",
       "      <td>0.0</td>\n",
       "      <td>0.0</td>\n",
       "      <td>0</td>\n",
       "      <td>0</td>\n",
       "      <td>0</td>\n",
       "      <td>0</td>\n",
       "      <td>0</td>\n",
       "      <td>0</td>\n",
       "      <td>...</td>\n",
       "      <td>0.0</td>\n",
       "      <td>0.0</td>\n",
       "      <td>0.0</td>\n",
       "      <td>0.0</td>\n",
       "      <td>1.0</td>\n",
       "      <td>0.0</td>\n",
       "      <td>0.0</td>\n",
       "      <td>0.0</td>\n",
       "      <td>0.0</td>\n",
       "      <td>0.0</td>\n",
       "    </tr>\n",
       "    <tr>\n",
       "      <th>4</th>\n",
       "      <td>1.217710</td>\n",
       "      <td>-0.068838</td>\n",
       "      <td>0.0</td>\n",
       "      <td>0.0</td>\n",
       "      <td>0</td>\n",
       "      <td>0</td>\n",
       "      <td>0</td>\n",
       "      <td>0</td>\n",
       "      <td>0</td>\n",
       "      <td>0</td>\n",
       "      <td>...</td>\n",
       "      <td>0.0</td>\n",
       "      <td>0.0</td>\n",
       "      <td>0.0</td>\n",
       "      <td>0.0</td>\n",
       "      <td>1.0</td>\n",
       "      <td>0.0</td>\n",
       "      <td>0.0</td>\n",
       "      <td>0.0</td>\n",
       "      <td>0.0</td>\n",
       "      <td>0.0</td>\n",
       "    </tr>\n",
       "  </tbody>\n",
       "</table>\n",
       "<p>5 rows × 226 columns</p>\n",
       "</div>"
      ],
      "text/plain": [
       "       year   runtime  has_tagline  mult_directors  out_accused  out_actress  \\\n",
       "0 -0.276088 -0.153752          0.0             0.0            0            0   \n",
       "1 -1.857757 -0.748150          0.0             0.0            0            0   \n",
       "2  1.173775  1.119958          0.0             0.0            0            0   \n",
       "3  1.041969  1.799271          0.0             0.0            0            0   \n",
       "4  1.217710 -0.068838          0.0             0.0            0            0   \n",
       "\n",
       "   out_affair  out_african  out_age  out_agent      ...       gen__Horror  \\\n",
       "0           0            0        0          0      ...               0.0   \n",
       "1           0            0        0          0      ...               0.0   \n",
       "2           0            0        0          0      ...               0.0   \n",
       "3           0            0        0          0      ...               0.0   \n",
       "4           0            0        0          0      ...               0.0   \n",
       "\n",
       "   gen__Music  gen__Musical  gen__Mystery  gen__Romance  gen__Sci-Fi  \\\n",
       "0         0.0           0.0           0.0           0.0          0.0   \n",
       "1         0.0           0.0           0.0           1.0          0.0   \n",
       "2         0.0           0.0           0.0           0.0          0.0   \n",
       "3         0.0           0.0           0.0           1.0          0.0   \n",
       "4         0.0           0.0           0.0           1.0          0.0   \n",
       "\n",
       "   gen__Sport  gen__Thriller  gen__War  gen__Western  \n",
       "0         0.0            0.0       0.0           0.0  \n",
       "1         0.0            0.0       0.0           0.0  \n",
       "2         0.0            0.0       0.0           0.0  \n",
       "3         0.0            0.0       0.0           0.0  \n",
       "4         0.0            0.0       0.0           0.0  \n",
       "\n",
       "[5 rows x 226 columns]"
      ]
     },
     "execution_count": 30,
     "metadata": {},
     "output_type": "execute_result"
    }
   ],
   "source": [
    "X.head()"
   ]
  },
  {
   "cell_type": "markdown",
   "metadata": {},
   "source": [
    "The sample is split into a testing sample and a training set, so that there is no information spillover and so that there is a fair assessment of the accuracy of the model."
   ]
  },
  {
   "cell_type": "code",
   "execution_count": 31,
   "metadata": {
    "collapsed": false
   },
   "outputs": [],
   "source": [
    "from sklearn.model_selection import train_test_split\n",
    "X_train, X_test, y_train, y_test = train_test_split(X,y, test_size = 0.3)"
   ]
  },
  {
   "cell_type": "markdown",
   "metadata": {},
   "source": [
    "To start off, we use decision tree classifiers to look into our classification problem. "
   ]
  },
  {
   "cell_type": "code",
   "execution_count": 32,
   "metadata": {
    "collapsed": false
   },
   "outputs": [
    {
     "data": {
      "text/plain": [
       "DecisionTreeClassifier(class_weight=None, criterion='gini', max_depth=None,\n",
       "            max_features=None, max_leaf_nodes=None,\n",
       "            min_impurity_split=1e-07, min_samples_leaf=1,\n",
       "            min_samples_split=2, min_weight_fraction_leaf=0.0,\n",
       "            presort=False, random_state=None, splitter='best')"
      ]
     },
     "execution_count": 32,
     "metadata": {},
     "output_type": "execute_result"
    }
   ],
   "source": [
    "from sklearn.tree import DecisionTreeClassifier\n",
    "treereg = DecisionTreeClassifier()\n",
    "treereg.fit(X_train, y_train)"
   ]
  },
  {
   "cell_type": "code",
   "execution_count": 33,
   "metadata": {
    "collapsed": true
   },
   "outputs": [],
   "source": [
    "preds = treereg.predict(X_test)"
   ]
  },
  {
   "cell_type": "code",
   "execution_count": 34,
   "metadata": {
    "collapsed": false
   },
   "outputs": [
    {
     "name": "stdout",
     "output_type": "stream",
     "text": [
      "             precision    recall  f1-score   support\n",
      "\n",
      "        0.0       0.73      0.72      0.73        81\n",
      "        1.0       0.49      0.51      0.50        43\n",
      "\n",
      "avg / total       0.65      0.65      0.65       124\n",
      "\n"
     ]
    }
   ],
   "source": [
    "from sklearn.metrics import classification_report, confusion_matrix\n",
    "print classification_report(y_test, preds)"
   ]
  },
  {
   "cell_type": "markdown",
   "metadata": {},
   "source": [
    "The decision tree leads to a fairly poor score compared to our baseline accuracy, indicating that the features do not have a lot of predictive power. The model seems to be able to identify movies that are not good pretty well, but does not do a good job predicting movies that are good."
   ]
  },
  {
   "cell_type": "code",
   "execution_count": 35,
   "metadata": {
    "collapsed": false
   },
   "outputs": [
    {
     "name": "stdout",
     "output_type": "stream",
     "text": [
      "[[58 23]\n",
      " [21 22]]\n"
     ]
    }
   ],
   "source": [
    "print confusion_matrix(y_test, preds)"
   ]
  },
  {
   "cell_type": "code",
   "execution_count": 36,
   "metadata": {
    "collapsed": false
   },
   "outputs": [],
   "source": [
    "from sklearn.model_selection import GridSearchCV\n",
    "params = dict(max_depth=range(1,2), min_samples_split=range(2,5), max_features = (2,5, 10, 30, 50, 100, 200))\n",
    "gridsearch = GridSearchCV(estimator = treereg, param_grid = params, cv=5)"
   ]
  },
  {
   "cell_type": "code",
   "execution_count": 37,
   "metadata": {
    "collapsed": false
   },
   "outputs": [
    {
     "data": {
      "text/plain": [
       "GridSearchCV(cv=5, error_score='raise',\n",
       "       estimator=DecisionTreeClassifier(class_weight=None, criterion='gini', max_depth=None,\n",
       "            max_features=None, max_leaf_nodes=None,\n",
       "            min_impurity_split=1e-07, min_samples_leaf=1,\n",
       "            min_samples_split=2, min_weight_fraction_leaf=0.0,\n",
       "            presort=False, random_state=None, splitter='best'),\n",
       "       fit_params={}, iid=True, n_jobs=1,\n",
       "       param_grid={'max_features': (2, 5, 10, 30, 50, 100, 200), 'min_samples_split': [2, 3, 4], 'max_depth': [1]},\n",
       "       pre_dispatch='2*n_jobs', refit=True, return_train_score=True,\n",
       "       scoring=None, verbose=0)"
      ]
     },
     "execution_count": 37,
     "metadata": {},
     "output_type": "execute_result"
    }
   ],
   "source": [
    "gridsearch.fit(X_train, y_train)"
   ]
  },
  {
   "cell_type": "code",
   "execution_count": 38,
   "metadata": {
    "collapsed": false
   },
   "outputs": [
    {
     "data": {
      "text/plain": [
       "{'max_depth': 1, 'max_features': 200, 'min_samples_split': 2}"
      ]
     },
     "execution_count": 38,
     "metadata": {},
     "output_type": "execute_result"
    }
   ],
   "source": [
    "gridsearch.best_params_"
   ]
  },
  {
   "cell_type": "code",
   "execution_count": 39,
   "metadata": {
    "collapsed": false
   },
   "outputs": [
    {
     "data": {
      "text/plain": [
       "0.61458333333333337"
      ]
     },
     "execution_count": 39,
     "metadata": {},
     "output_type": "execute_result"
    }
   ],
   "source": [
    "gridsearch.best_score_"
   ]
  },
  {
   "cell_type": "code",
   "execution_count": 40,
   "metadata": {
    "collapsed": false
   },
   "outputs": [],
   "source": [
    "model = DecisionTreeClassifier(max_depth=1, max_features=100, min_samples_split=4).fit(X_train, y_train)\n",
    "y_pred = model.predict(X_test)"
   ]
  },
  {
   "cell_type": "code",
   "execution_count": 41,
   "metadata": {
    "collapsed": false
   },
   "outputs": [
    {
     "data": {
      "text/plain": [
       "0.60483870967741937"
      ]
     },
     "execution_count": 41,
     "metadata": {},
     "output_type": "execute_result"
    }
   ],
   "source": [
    "from sklearn.metrics import accuracy_score\n",
    "accuracy_score(y_test, y_pred)"
   ]
  },
  {
   "cell_type": "code",
   "execution_count": 42,
   "metadata": {
    "collapsed": true
   },
   "outputs": [],
   "source": [
    "from os import system\n",
    "from sklearn.tree import export_graphviz\n",
    "def build_tree_image(model, filename='tree.png'):\n",
    "    dotfile = open(\"tree.dot\", 'w')\n",
    "    export_graphviz(model, out_file = dotfile, feature_names = X.columns,filled=True,\n",
    "                    rounded=True,special_characters=True)\n",
    "    dotfile.close()\n",
    "    system(\"dot -Tpng tree.dot -o {0}\".format(filename))"
   ]
  },
  {
   "cell_type": "code",
   "execution_count": 3,
   "metadata": {
    "collapsed": false
   },
   "outputs": [
    {
     "data": {
      "image/png": "[encoded data removed]",
      "text/plain": [
       "<IPython.core.display.Image object>"
      ]
     },
     "execution_count": 3,
     "metadata": {},
     "output_type": "execute_result"
    }
   ],
   "source": [
    "from IPython.core.display import Image \n",
    "Image(filename='Images/tree_new.png')"
   ]
  },
  {
   "cell_type": "markdown",
   "metadata": {},
   "source": [
    "The decision tree seems to make a very simple decision. It checks whether a movie is a drama or not, and decides based on that if a movie is good or not. The model seems to increase the baseline, but barely does so. It predicts all dramas to be good and all movies that are different genres to be bad, and by doing so the model increases the baseline from 59.7% accuracy to 60.5% accuracy in the test set."
   ]
  },
  {
   "cell_type": "code",
   "execution_count": 59,
   "metadata": {
    "collapsed": false
   },
   "outputs": [
    {
     "data": {
      "image/png": "[encoded data removed]",
      "text/plain": [
       "<matplotlib.figure.Figure at 0x11ad64990>"
      ]
     },
     "metadata": {},
     "output_type": "display_data"
    }
   ],
   "source": [
    "\n",
    "y_pred_df = model.predict(X)\n",
    "\n",
    "colors = ['navy', 'green']\n",
    "lw = 0.1\n",
    "\n",
    "for color, i, target_name in zip(colors, [0,1], ['Bad movie', 'Good movie']):\n",
    "    plt.scatter(df.loc[y_pred_df == i, 'rating'],X.loc[y_pred_df == i, 'gen__Drama'], color=color, alpha=0.3, lw=lw, label=target_name)\n",
    "plt.xlabel('Movie rating')\n",
    "plt.ylabel('Drama', rotation = 0, verticalalignment = 'bottom', horizontalalignment = 'center')\n",
    "plt.yticks(range(2))\n",
    "plt.legend(loc=3, shadow=False, scatterpoints=1)\n",
    "\n",
    "plt.title('Good movie predictions')\n",
    "\n",
    "plt.show()"
   ]
  },
  {
   "cell_type": "markdown",
   "metadata": {
    "collapsed": true
   },
   "source": [
    "## Conclusion"
   ]
  },
  {
   "cell_type": "markdown",
   "metadata": {},
   "source": [
    "The predictive power of the models used is pretty poor. In my view this can be explained by the random sample that I have selected, and the lack of predictive power of the features selected. Runtime, words in an outline, the number of directors or whether the movie has a tagline do not seem to be able to predict whether a movie is succesful or not. Future projects should include better features. However, including reviews did not seem fair to me, since these are written as a response to the quality of a movie. So this means that even though it might be highly correlated with a movie rating, it has no predictive power to see whether a movie will be succesful or not. For future projects it would be better to use other features that are known before a movie is released (such as production value)."
   ]
  },
  {
   "cell_type": "code",
   "execution_count": null,
   "metadata": {
    "collapsed": true
   },
   "outputs": [],
   "source": []
  }
 ],
 "metadata": {
  "anaconda-cloud": {},
  "kernelspec": {
   "display_name": "Python [conda root]",
   "language": "python",
   "name": "conda-root-py"
  },
  "language_info": {
   "codemirror_mode": {
    "name": "ipython",
    "version": 2
   },
   "file_extension": ".py",
   "mimetype": "text/x-python",
   "name": "python",
   "nbconvert_exporter": "python",
   "pygments_lexer": "ipython2",
   "version": "2.7.12"
  }
 },
 "nbformat": 4,
 "nbformat_minor": 1
}
